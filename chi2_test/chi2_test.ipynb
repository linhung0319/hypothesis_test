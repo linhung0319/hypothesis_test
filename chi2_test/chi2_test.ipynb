{
 "cells": [
  {
   "cell_type": "code",
   "execution_count": 65,
   "metadata": {},
   "outputs": [],
   "source": [
    "from scipy.stats import chi2\n",
    "import numpy as np\n",
    "import pandas as pd\n",
    "import matplotlib.pyplot as plt \n",
    "%matplotlib inline\n",
    "import seaborn as sns\n",
    "sns.set_style('darkgrid')"
   ]
  },
  {
   "cell_type": "markdown",
   "metadata": {},
   "source": [
    "### Chi-2-Test\n",
    "\n",
    "* Assumptions\n",
    "\n",
    "1. Independence of the observations \n",
    "\n",
    "2. Both variables are categorical\n",
    "\n",
    "3. Cells in the contingency table are mutually exclusive: an individual cannot belong to mre than one cell\n",
    "\n",
    "4. Expected value of cells should be 5 or greater in at least 80% of cells: sample size of each cell should not be less than 5.\n",
    "\n",
    "[REFERENCE](https://www.statology.org/chi-square-test-assumptions/)\n",
    "\n",
    "* When to use Chi-2-Test\n",
    "\n",
    "1. When we want to test if there is significant discrepency between sample and expected frequency\n",
    "\n",
    "2. When we want to test if the two catogorical variables are independent.\n",
    "\n",
    "---\n",
    "\n",
    "### Test Frequencies\n",
    "\n",
    "If we count the number of occurances of a category in a categorical variable, we can observe that in each count, it is a Bernoulli trial. The number of occurance of this category is simply the number of successes in a Bernoulli trial with a probability of success p. When the number of observations is large, the distribution of the number of occurances approaches to normal distribution.\n",
    "\n",
    "![](./resources/freq_normal.PNG) \n",
    "\n",
    "However, we need to consider all categories in the categorical variable. There is a constraint for the occurances in all categories:\n",
    "\n",
    "![](./resources/freq_constraint.PNG)\n",
    "\n",
    "With this constraint, we have a random variable of chi-squared distribution. \n",
    "\n",
    "![](./resources/freq_chi2.PNG)\n",
    "\n",
    "The sample and expected number of occurance is just the sample and expected frequency.\n",
    "\n",
    "![](./resources/freq_formula.PNG)\n",
    "\n",
    "[Thorough Proof](./resources/chi_2_test_frequencies_proof.pdf)\n",
    "\n",
    "---\n",
    "\n",
    "### Test Independence\n",
    "\n",
    "The variables are independent if P(a, b) = P(a) x P(b)\n",
    "\n",
    "![](./resources/contingency_table.PNG)\n",
    "\n",
    "N<sub>ij</sub> is P(a, b) x N<sub>total</sub> \n",
    "\n",
    "If the variables are independent, the numerator should be 0.\n",
    "\n",
    "![](./resources/ind_chi2.PNG)\n",
    "\n",
    "![](./resources/ind_formula.PNG)\n",
    "\n",
    "[Thorough Proof](./resources/chi_2_test_independence_proof.pdf)"
   ]
  },
  {
   "cell_type": "markdown",
   "metadata": {},
   "source": [
    "\n",
    "---\n",
    "\n",
    "### Question 1\n",
    "\n",
    "Suppose colors come in 4 varieties: plastic, useful, colossal and addicted. In the pursuit of science, you find 101 colors and count how many fall into each variety. This generates the following table:\n",
    "\n",
    "| varieties | plastic | useful | colossal | addicted |\n",
    "| --- | --- | --- | --- | --- |\n",
    "| frequency | 29 | 20 | 21 | 31 |\n",
    "\n",
    "Make a bar graph showing the frequencies for each variety of colors\n",
    "\n",
    "Make a table of the expected frequencies.\n",
    "\n",
    "Using an alpha = 0.01 test the null hypothesis that the 101 colors are distributed evenly across the 4 varieties of plastic, useful, colossal and addicted.\n",
    "\n",
    "* from [chi_2_test_frequencies_tutorial.pdf](./resources/chi_2_test_frequencies_tutorial.pdf)"
   ]
  },
  {
   "cell_type": "markdown",
   "metadata": {},
   "source": [
    "H<sub>0</sub> : The frequency is distributed as expected across the 4 varieties.\n",
    "\n",
    "H<sub>1</sub> : The frequency is not distributed as expected across the 4 varieties."
   ]
  },
  {
   "cell_type": "code",
   "execution_count": 66,
   "metadata": {},
   "outputs": [
    {
     "name": "stdout",
     "output_type": "stream",
     "text": [
      "Expected Frequecy: 25.25\n",
      "\n",
      "Chi2 of each variety: [0.55693069 1.09158416 0.71534653 1.30940594]\n",
      "Chi2: 3.6732673267326734\n",
      "\n",
      "p_value: 0.2989753856042572\n",
      "x2_crit: 11.344866730144373\n"
     ]
    }
   ],
   "source": [
    "alpha = 0.01\n",
    "freq_s = np.array([29, 20, 21, 31])\n",
    "\n",
    "freq_e = np.mean(freq_s)\n",
    "print(\"Expected Frequecy: {}\".format(freq_e))\n",
    "print(\"\")\n",
    "\n",
    "x2_s = np.square(freq_s - freq_e) / freq_e\n",
    "x2 = np.sum(x2_s)\n",
    "print(\"Chi2 of each variety: {}\".format(x2_s))\n",
    "print(\"Chi2: {}\".format(x2))\n",
    "print(\"\")\n",
    "\n",
    "k = 4\n",
    "df = k - 1\n",
    "\n",
    "p_value = 1 - chi2.cdf(x2, df=df)\n",
    "x2_crit = chi2.ppf(1 - alpha, df=df)\n",
    "print(\"p_value: {}\".format(p_value))\n",
    "print(\"x2_crit: {}\".format(x2_crit))"
   ]
  },
  {
   "cell_type": "code",
   "execution_count": 67,
   "metadata": {},
   "outputs": [
    {
     "data": {
      "text/plain": [
       "<matplotlib.legend.Legend at 0x13d5efecb20>"
      ]
     },
     "execution_count": 67,
     "metadata": {},
     "output_type": "execute_result"
    },
    {
     "data": {
      "image/png": "[encoded data removed]",
      "text/plain": [
       "<Figure size 432x288 with 1 Axes>"
      ]
     },
     "metadata": {},
     "output_type": "display_data"
    },
    {
     "data": {
      "image/png": "[encoded data removed]",
      "text/plain": [
       "<Figure size 432x288 with 1 Axes>"
      ]
     },
     "metadata": {},
     "output_type": "display_data"
    }
   ],
   "source": [
    "plt.figure(1)\n",
    "plot = sns.barplot(data=[[i] for i in freq_s])\n",
    "plot.set(ylabel='frequency')\n",
    "plot.set_xticklabels([ \"plastic\", \"useful\", \"colossal\", \"addicted\"])\n",
    "plot.set_ylim(15, 35)\n",
    "\n",
    "plt.figure(2)\n",
    "x = np.linspace(0, 12, num=100)\n",
    "y = chi2.pdf(x, df=df)\n",
    "plot = sns.lineplot(x=x, y=y)\n",
    "plt.vlines(x2, 0, 0.2, 'b', label='x2')\n",
    "plt.vlines(x2_crit, 0, 0.2, 'r', label='x2_crit')\n",
    "plt.legend()"
   ]
  },
  {
   "cell_type": "markdown",
   "metadata": {},
   "source": [
    "#### Ans:\n",
    "\n",
    "Since p_value > α, we failed to reject H<sub>0</sub>. \n",
    "\n",
    "The frequency of 101 colors is distributed as expected across the 4 varieties of plastic, useful, colossal and addiced"
   ]
  },
  {
   "cell_type": "markdown",
   "metadata": {},
   "source": [
    "\n",
    "---\n",
    "\n",
    "### Question 2\n",
    "\n",
    "Suppose statistics problems and professors come in 3 varieties: uneven, gamy and outgoing. Let's find 76 statistics problems and 63 professors and count how many fall into each variety. This generates the following table:\n",
    "\n",
    "|| statistics problems | professors |\n",
    "| --- | --- | --- |\n",
    "| uneven | 35 | 13 |\n",
    "|gamy | 19 | 29 |\n",
    "| outgoing | 22 | 21 |\n",
    "\n",
    "Make a table of the expected frequencies.\n",
    "\n",
    "Using an alpha value of 0.05, test the hypothesis that the statistics problems and professors are distributed independently across the varieties of uneven, gamy and outgoing.\n",
    "\n",
    "* from [chi_2_test_independence_tutorial.pdf](./resources/chi_2_test_independence_tutorial.pdf)\n",
    "\n"
   ]
  },
  {
   "cell_type": "markdown",
   "metadata": {},
   "source": [
    "H<sub>0</sub> : The two random variables are independent.\n",
    "\n",
    "H<sub>1</sub> : The two random variables are dependent."
   ]
  },
  {
   "cell_type": "code",
   "execution_count": 68,
   "metadata": {},
   "outputs": [
    {
     "name": "stdout",
     "output_type": "stream",
     "text": [
      "n_col: [76 63]\n",
      "n_row: [48 48 43]\n",
      "n_total: 139\n",
      "\n",
      "x2_s:\n",
      "[[2.92086528 3.52358351]\n",
      " [1.99981265 2.4124724 ]\n",
      " [0.09708268 0.11711561]]\n",
      "x2: 11.070932134923872\n",
      "\n",
      "df: 2\n",
      "\n",
      "p_value: 0.003944369865073294\n",
      "x2_crit: 5.991464547107979\n"
     ]
    }
   ],
   "source": [
    "alpha = 0.05\n",
    "n_cell = np.array([[35, 13], \n",
    "                   [19, 29], \n",
    "                   [22, 21]])\n",
    "\n",
    "n_col = np.sum(n_cell, axis=0)\n",
    "n_row = np.sum(n_cell, axis=1)\n",
    "n_total = np.sum(n_cell)\n",
    "print(\"n_col: {}\".format(n_col))\n",
    "print(\"n_row: {}\".format(n_row))\n",
    "print(\"n_total: {}\".format(n_total))\n",
    "print(\"\")\n",
    "\n",
    "ni_x_nj = (np.outer(n_row, n_col) / n_total)\n",
    "x2_s = np.square(n_cell - ni_x_nj) / ni_x_nj\n",
    "x2 = np.sum(x2_s)\n",
    "print(\"x2_s:\")\n",
    "print(x2_s)\n",
    "print(\"x2: {}\".format(x2))\n",
    "print(\"\")\n",
    "\n",
    "k_row = 3\n",
    "k_col = 2\n",
    "df = (k_row - 1) * (k_col - 1)\n",
    "print(\"df: {}\".format(df))\n",
    "print(\"\")\n",
    "\n",
    "p_value = 1 - chi2.cdf(x2, df=df)\n",
    "x2_crit = chi2.ppf(1 - alpha, df=df)\n",
    "print(\"p_value: {}\".format(p_value))\n",
    "print(\"x2_crit: {}\".format(x2_crit))"
   ]
  },
  {
   "cell_type": "code",
   "execution_count": 69,
   "metadata": {},
   "outputs": [
    {
     "data": {
      "text/plain": [
       "<matplotlib.legend.Legend at 0x13d5f11d8b0>"
      ]
     },
     "execution_count": 69,
     "metadata": {},
     "output_type": "execute_result"
    },
    {
     "data": {
      "image/png": "[encoded data removed]",
      "text/plain": [
       "<Figure size 432x288 with 1 Axes>"
      ]
     },
     "metadata": {},
     "output_type": "display_data"
    },
    {
     "data": {
      "image/png": "[encoded data removed]",
      "text/plain": [
       "<Figure size 432x288 with 1 Axes>"
      ]
     },
     "metadata": {},
     "output_type": "display_data"
    }
   ],
   "source": [
    "name_row = [\"uneven\", \"gamy\", \"outgoing\"]\n",
    "name_col = [\"statistics problems\", \"professors\"]\n",
    "df_data = pd.DataFrame(columns=[\"freq\", \"row\", \"col\"])\n",
    "for i in range(k_row):\n",
    "    for j in range(k_col):\n",
    "        d = { \"freq\": n_cell[i][j],\n",
    "              \"row\": name_row[i],\n",
    "              \"col\": name_col[j]}\n",
    "        df_data = pd.concat([df_data, pd.DataFrame(d, index=[0])])\n",
    "plt.figure(1)\n",
    "plot = sns.barplot(x=\"row\", y=\"freq\", hue=\"col\", data=df_data)\n",
    "plot.set(ylabel='frequency')\n",
    "plot.set_ylim(10, 36)\n",
    "\n",
    "plt.figure(2)\n",
    "x = np.linspace(0, 12, num=100)\n",
    "y = chi2.pdf(x, df=df)\n",
    "plot = sns.lineplot(x=x, y=y)\n",
    "plt.vlines(x2, 0, 0.2, 'b', label='x2')\n",
    "plt.vlines(x2_crit, 0, 0.2, 'r', label='x2_crit')\n",
    "plt.legend()"
   ]
  },
  {
   "cell_type": "markdown",
   "metadata": {},
   "source": [
    "#### Ans:\n",
    "\n",
    "Since p_value < α, we rejected H<sub>0</sub>. \n",
    "\n",
    "The statistics problems and professors are not distributed independently of the varieties of uneven, gamy and outgoing."
   ]
  }
 ],
 "metadata": {
  "kernelspec": {
   "display_name": "Python 3.9.12 ('py39tf')",
   "language": "python",
   "name": "python3"
  },
  "language_info": {
   "codemirror_mode": {
    "name": "ipython",
    "version": 3
   },
   "file_extension": ".py",
   "mimetype": "text/x-python",
   "name": "python",
   "nbconvert_exporter": "python",
   "pygments_lexer": "ipython3",
   "version": "3.9.12"
  },
  "orig_nbformat": 4,
  "vscode": {
   "interpreter": {
    "hash": "df238622a495e1563c034796ccb7979ee1cb944f3608c1d858728f86cec43c42"
   }
  }
 },
 "nbformat": 4,
 "nbformat_minor": 2
}

{
 "cells": [
  {
   "cell_type": "code",
   "execution_count": 54,
   "metadata": {},
   "outputs": [],
   "source": [
    "from scipy.stats import t as t_test\n",
    "import numpy as np\n",
    "import matplotlib.pyplot as plt \n",
    "%matplotlib inline\n",
    "import seaborn as sns\n",
    "sns.set_style('darkgrid')"
   ]
  },
  {
   "cell_type": "markdown",
   "metadata": {},
   "source": [
    "### T-Test\n",
    "\n",
    "1. No matter what distribution the population is, if the sample size is under 30, we can aproximate the sameple means with t-distribution.\n",
    "\n",
    "2. We don't know the population standard deviation. we only have the sample standard deviation. In this case, we use t-test.\n",
    "\n",
    "##### Effect Size\n",
    "\n",
    "The effect size is a statistic that describes how far our observed mean is from the mean for the null hypothesis in standard deviation units. \n",
    "\n",
    "The p_value can only tell us if we can reject the null hypothosis, but it can not tell us how large is the difference.\n",
    "\n",
    "The most common meaure is \"Cohen’s d\", which is used when we don’t know thee standard deviation of the population\n",
    "\n",
    "![](Cohen_d.PNG)\n",
    "\n",
    "| d | Effect Size |\n",
    "| --- | --- |\n",
    "| 0.8 | large |\n",
    "| 0.5 | medium |\n",
    "| 0.2 | small |\n",
    "\n",
    "The effect sizes around d = 0.8 or more are considiered large, d = 0.5 is medium and d = 0.2 or less is small.\n",
    "\n",
    "##### Power Analysis\n",
    "\n",
    "Power analysis answers questions like \"how much statistical power does my study have?\" and \"how big a sample size do I need?\".\n",
    "\n",
    "![](PowerPlot.png)\n",
    "\n",
    "If p_value < α (Type I Error), we reject null hypothesis and vice versa. Thus, the critical point seperate H0 and H1. \n",
    "\n",
    "When we reject H0, we can choose the sample mean as the mu of the probability distribution of H1 and calculate β (Type II Eorror). The power is simply ( 1 - β ).\n",
    "\n",
    "[See More](https://www.dummies.com/article/academics-the-arts/math/statistics/finding-the-power-of-a-hypothesis-test-142649/)"
   ]
  },
  {
   "cell_type": "markdown",
   "metadata": {},
   "source": [
    "### Question 1: \n",
    "\n",
    "___\n",
    "Your friend gets you to sample the amplitude of 74 psych students from a population and obtain a mean amplitude of 74.75 and a standard deviation of 6.2287.\n",
    "\n",
    "Using an alpha value of α = 0.01, is this observed mean significantly less than an expected amplitude of 77?\n",
    "\n",
    "What is the effect size? Is the effect size small, medium or large?\n",
    "\n",
    "* from t_test_tutorial.pdf"
   ]
  },
  {
   "cell_type": "code",
   "execution_count": 55,
   "metadata": {},
   "outputs": [],
   "source": [
    "n = 74\n",
    "sample_mean = 74.75\n",
    "sample_std = 6.2287\n",
    "a = 0.01\n",
    "mu = 77"
   ]
  },
  {
   "cell_type": "markdown",
   "metadata": {},
   "source": [
    "H<sub>0 : mu = 77\n",
    "\n",
    "H<sub>1 : mu < 77"
   ]
  },
  {
   "cell_type": "code",
   "execution_count": 56,
   "metadata": {},
   "outputs": [
    {
     "name": "stdout",
     "output_type": "stream",
     "text": [
      "p_value:  0.0013443871509273798\n",
      "Effect Size:  0.36123107550532213\n",
      "Beta:  0.23419583518821385\n",
      "Power:  0.7658041648117861\n"
     ]
    }
   ],
   "source": [
    "sample_mean_std = sample_std / np.sqrt(n)\n",
    "d = (sample_mean - mu) / sample_mean_std\n",
    "df= n - 1\n",
    "p_value = t_test.cdf(d, df=df)\n",
    "print(\"p_value: \", p_value)\n",
    "\n",
    "effect_size = abs( (sample_mean - mu) / sample_std )\n",
    "print(\"Effect Size: \", effect_size)\n",
    "\n",
    "critical_value = t_test.ppf(a, df=df)\n",
    "power = t_test.cdf(critical_value - d, df=df)\n",
    "print(\"Beta: \", 1 - power)\n",
    "print(\"Power: \", power)"
   ]
  },
  {
   "cell_type": "code",
   "execution_count": 57,
   "metadata": {},
   "outputs": [
    {
     "data": {
      "text/plain": [
       "<matplotlib.legend.Legend at 0x1c33c3a4550>"
      ]
     },
     "execution_count": 57,
     "metadata": {},
     "output_type": "execute_result"
    },
    {
     "data": {
      "image/png": "[encoded data removed]",
      "text/plain": [
       "<Figure size 432x288 with 1 Axes>"
      ]
     },
     "metadata": {},
     "output_type": "display_data"
    }
   ],
   "source": [
    "x_a_left = t_test.ppf(a, df=df, loc=mu, scale=sample_mean_std)\n",
    "x0 = np.linspace( mu - sample_mean_std * 4,\n",
    "                  mu + sample_mean_std * 4,\n",
    "                  num=100)\n",
    "y0 = t_test.pdf(x0, df=df, loc=mu, scale=sample_mean_std)\n",
    "sns.lineplot(x=x0, y=y0, label=\"H0\")\n",
    "\n",
    "x1 = np.linspace( sample_mean - sample_mean_std * 4,\n",
    "                  sample_mean + sample_mean_std * 4,\n",
    "                  num=100 )\n",
    "y1 = t_test.pdf(x1, df=df, loc=sample_mean, scale=sample_mean_std)\n",
    "sns.lineplot(x=x1, y=y1, label=\"H1\")\n",
    "plt.vlines(sample_mean, 0, t_test.pdf(sample_mean, df=df, loc=sample_mean, scale=sample_mean_std), 'b', label='sample_mean')\n",
    "plt.vlines(x_a_left, 0, t_test.pdf(x_a_left, df=df, loc=sample_mean, scale=sample_mean_std), 'r', label='critical value')\n",
    "plt.legend()"
   ]
  },
  {
   "cell_type": "markdown",
   "metadata": {},
   "source": [
    "#### Ans:\n",
    "\n",
    "Since p_value < α, we reject H<sub>0. \n",
    "\n",
    "The observed mean is significant less than an expected amplitude of 77.\n",
    "\n",
    "The effect size is 0.36 which is medium.\n",
    "\n",
    "β (Type II Error) = 0.234 which means if we rejected H1, the sample mean is 23.4% to be H1."
   ]
  },
  {
   "cell_type": "markdown",
   "metadata": {},
   "source": [
    "### Question1\n",
    "\n",
    "---\n",
    "\n",
    "You go out and measure the smell of 34 drab and 84 breezy movies and obtain for drab\n",
    "movies a mean smell of 68.01 and a standard deviation of 4.4309, and for breezy movies a\n",
    "mean of 69.63 and a standard deviation of 4.3934.\n",
    "\n",
    "Make a bar graph of the means with error bars representing the standard error of the\n",
    "means\n",
    "\n",
    "Using an alpha value of 0.01, is the mean smell of drab movies significantly less than for\n",
    "the breezy movies?\n",
    "What is the effect size?\n",
    "What is the observed power of this test?\n",
    "\n",
    "* from t_test_2_independent_means_tutorial.pdf"
   ]
  },
  {
   "cell_type": "code",
   "execution_count": 79,
   "metadata": {},
   "outputs": [
    {
     "name": "stdout",
     "output_type": "stream",
     "text": [
      "p_value:  0.03646927829801504\n",
      "effect_size:  0.3678390088474034\n",
      "power: 0.29193831665879477\n",
      "Beta:  0.7080616833412052\n"
     ]
    }
   ],
   "source": [
    "# We can create a new population Z which is the combination of X and Y\n",
    "# Z = X - Y\n",
    "# If X = Y, then mu_z = 0\n",
    "sample_mean_x = 68.01\n",
    "sample_mean_y = 69.63\n",
    "sample_mean_z = sample_mean_x - sample_mean_y\n",
    "mu_z = 0\n",
    "\n",
    "n_x = 34\n",
    "n_y = 84\n",
    "sample_std_x = 4.4309\n",
    "sample_std_y = 4.3934\n",
    "sp = np.sqrt( ((n_x - 1) * sample_std_x**2 + (n_y - 1) * sample_std_y**2) / ( n_x + n_y - 2 ) )\n",
    "sample_std_z = sp * np.sqrt( (1/n_x) + (1/n_y) )\n",
    "df = n_x + n_y - 2\n",
    "t = sample_mean_z / sample_std_z\n",
    "p_value = t_test.cdf(t, df=df)\n",
    "print(\"p_value: \", p_value)\n",
    "\n",
    "effect_size = abs(sample_mean_z / sp)\n",
    "print(\"effect_size: \", effect_size)\n",
    "a = 0.01\n",
    "critical_value = t_test.ppf(a, df=df)\n",
    "power = t_test.cdf(critical_value - t, df=df)\n",
    "print(\"power:\", power)\n",
    "print(\"Beta: \", 1 - power)"
   ]
  },
  {
   "cell_type": "markdown",
   "metadata": {},
   "source": [
    "H<sub>0 : ( drab )  mu_x = mu_y ( breezy )\n",
    "\n",
    "H<sub>1 : ( drab )  mu_x < mu_y ( breezy )"
   ]
  },
  {
   "cell_type": "code",
   "execution_count": 118,
   "metadata": {},
   "outputs": [
    {
     "name": "stdout",
     "output_type": "stream",
     "text": [
      "0.7598930809079424\n"
     ]
    },
    {
     "data": {
      "image/png": "[encoded data removed]",
      "text/plain": [
       "<Figure size 432x288 with 1 Axes>"
      ]
     },
     "metadata": {},
     "output_type": "display_data"
    }
   ],
   "source": [
    "sample_mean_std_x = sample_std_x / np.sqrt(n_x)\n",
    "sample_mean_std_y = sample_std_y / np.sqrt(n_y)\n",
    "x = t_test.rvs(df=df, loc=sample_mean_x, scale=sample_mean_std_x, size=100)\n",
    "y = t_test.rvs(df=df, loc=sample_mean_y, scale=sample_mean_std_y, size=100)\n",
    "fig = sns.barplot(data=[x, y], ci='sd')\n",
    "fig.set_xticklabels([\"drab\", \"breezy\"])\n",
    "fig.margins(0.5)\n",
    "fig.set_ylim(67, 71)\n",
    "print(sample_mean_std_x)"
   ]
  },
  {
   "cell_type": "markdown",
   "metadata": {},
   "source": [
    "#### Ans:\n",
    "\n",
    "Since p_value > α, we can not reject H<sub>0. \n",
    "\n",
    "The smell of drab movie is not significantly less than the smell of breezy movie\n",
    "\n",
    "The effect size is 0.36 which is medium.\n",
    "\n",
    "power = 0.3 which means if we rejected H0, it is 30% to be correct.\n",
    "\n",
    "[power calculator](https://www.statskingdom.com/32test_power_t_z.html)"
   ]
  },
  {
   "cell_type": "markdown",
   "metadata": {},
   "source": []
  }
 ],
 "metadata": {
  "kernelspec": {
   "display_name": "Python 3.9.12 ('py39tf')",
   "language": "python",
   "name": "python3"
  },
  "language_info": {
   "codemirror_mode": {
    "name": "ipython",
    "version": 3
   },
   "file_extension": ".py",
   "mimetype": "text/x-python",
   "name": "python",
   "nbconvert_exporter": "python",
   "pygments_lexer": "ipython3",
   "version": "3.9.12"
  },
  "orig_nbformat": 4,
  "vscode": {
   "interpreter": {
    "hash": "df238622a495e1563c034796ccb7979ee1cb944f3608c1d858728f86cec43c42"
   }
  }
 },
 "nbformat": 4,
 "nbformat_minor": 2
}

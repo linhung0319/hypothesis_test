{
 "cells": [
  {
   "cell_type": "code",
   "execution_count": 7,
   "metadata": {},
   "outputs": [],
   "source": [
    "from scipy.stats import t as t_test\n",
    "import numpy as np\n",
    "import matplotlib.pyplot as plt \n",
    "%matplotlib inline\n",
    "import seaborn as sns\n",
    "sns.set_style('darkgrid')"
   ]
  },
  {
   "cell_type": "markdown",
   "metadata": {},
   "source": [
    "### T-Test\n",
    "\n",
    "1. No matter what distribution the population is, if the sample size is under 30, we can aproximate the sameple means with t-distribution.\n",
    "\n",
    "2. We don't know the population standard deviation. we only have the sample standard deviation. In this case, we use t-test.\n",
    "\n",
    "##### Effect Size\n",
    "\n",
    "The effect size is a statistic that describes how far our observed mean is from the mean for the null hypothesis in standard deviation units. \n",
    "\n",
    "The p_value can only tell us if we can reject the null hypothosis, but it can not tell us how large is the difference.\n",
    "\n",
    "The most common meaure is \"Cohen’s d\", which is used when we don’t know thee standard deviation of the population\n",
    "\n",
    "![](Cohen_d.PNG)\n",
    "\n",
    "| d | Effect Size |\n",
    "| --- | --- |\n",
    "| 0.8 | large |\n",
    "| 0.5 | medium |\n",
    "| 0.2 | small |\n",
    "\n",
    "The effect sizes around d = 0.8 or more are considiered large, d = 0.5 is medium and d = 0.2 or less is small.\n",
    "\n",
    "##### Power Analysis\n",
    "\n",
    "Power analysis answers questions like \"how much statistical power does my study have?\" and \"how big a sample size do I need?\".\n",
    "\n",
    "![](PowerPlot.png)\n",
    "\n",
    "If p_value < α (Type I Error), we reject null hypothesis and vice versa. Thus, the critical point seperate H0 and H1. \n",
    "\n",
    "When we reject H0, we can choose the sample mean as the mu of the probability distribution of H1 and calculate β (Type II Eorror). The power is simply ( 1 - β ).\n",
    "\n",
    "[See More](https://www.dummies.com/article/academics-the-arts/math/statistics/finding-the-power-of-a-hypothesis-test-142649/)"
   ]
  },
  {
   "cell_type": "markdown",
   "metadata": {},
   "source": [
    "### Question 1: \n",
    "\n",
    "___\n",
    "Your friend gets you to sample the amplitude of 74 psych students from a population and obtain a mean amplitude of 74.75 and a standard deviation of 6.2287.\n",
    "\n",
    "Using an alpha value of α = 0.01, is this observed mean significantly less than an expected amplitude of 77?\n",
    "\n",
    "What is the effect size? Is the effect size small, medium or large?\n",
    "\n",
    "#from t_test_tutorial.pdf"
   ]
  },
  {
   "cell_type": "code",
   "execution_count": 8,
   "metadata": {},
   "outputs": [],
   "source": [
    "n = 74\n",
    "sample_mean = 74.75\n",
    "sample_std = 6.2287\n",
    "a = 0.01\n",
    "mu = 77"
   ]
  },
  {
   "cell_type": "markdown",
   "metadata": {},
   "source": [
    "H<sub>0 : mu = 77\n",
    "\n",
    "H<sub>1 : mu < 77"
   ]
  },
  {
   "cell_type": "code",
   "execution_count": 13,
   "metadata": {},
   "outputs": [
    {
     "name": "stdout",
     "output_type": "stream",
     "text": [
      "p_value:  0.0013443871509273798\n",
      "Effect Size:  0.36123107550532213\n"
     ]
    }
   ],
   "source": [
    "sample_mean_std = sample_std / np.sqrt(n)\n",
    "d = (sample_mean - mu) / sample_mean_std\n",
    "df= n - 1\n",
    "p_value = t_test.cdf(d, df=df)\n",
    "\n",
    "effect_size = abs( (sample_mean - mu) / sample_std )\n",
    "print(\"p_value: \", p_value)\n",
    "print(\"Effect Size: \", effect_size)"
   ]
  },
  {
   "cell_type": "code",
   "execution_count": 15,
   "metadata": {},
   "outputs": [
    {
     "data": {
      "text/plain": [
       "<matplotlib.legend.Legend at 0x20989cc5580>"
      ]
     },
     "execution_count": 15,
     "metadata": {},
     "output_type": "execute_result"
    },
    {
     "data": {
      "image/png": "[encoded data removed]",
      "text/plain": [
       "<Figure size 432x288 with 1 Axes>"
      ]
     },
     "metadata": {},
     "output_type": "display_data"
    }
   ],
   "source": [
    "x_a_left = t_test.ppf(a, df=df, loc=mu, scale=sample_mean_std)\n",
    "x = np.linspace( mu - sample_mean_std * 4,\n",
    "                 mu + sample_mean_std * 4,\n",
    "                 num=100)\n",
    "y = t_test.pdf(x, df=df, loc=mu, scale=sample_mean_std)\n",
    "sns.lineplot(x=x, y=y)\n",
    "plt.vlines(sample_mean, 0, t_test.pdf(sample_mean, df=df, loc=mu, scale=sample_mean_std), 'b', label='sample_mean')\n",
    "plt.vlines(x_a_left, 0, t_test.pdf(x_a_left, df=df, loc=mu, scale=sample_mean_std), 'r', label='a')\n",
    "plt.legend()"
   ]
  },
  {
   "cell_type": "markdown",
   "metadata": {},
   "source": [
    "#### Ans:\n",
    "\n",
    "Since p_value < α, we reject H<sub>0. \n",
    "\n",
    "The observed mean is significant less than an expected amplitude of 77.\n",
    "\n",
    "The effect size is 0.36 which is medium."
   ]
  },
  {
   "cell_type": "markdown",
   "metadata": {},
   "source": []
  }
 ],
 "metadata": {
  "kernelspec": {
   "display_name": "Python 3.8.5 ('base')",
   "language": "python",
   "name": "python3"
  },
  "language_info": {
   "codemirror_mode": {
    "name": "ipython",
    "version": 3
   },
   "file_extension": ".py",
   "mimetype": "text/x-python",
   "name": "python",
   "nbconvert_exporter": "python",
   "pygments_lexer": "ipython3",
   "version": "3.8.5"
  },
  "orig_nbformat": 4,
  "vscode": {
   "interpreter": {
    "hash": "12659f122455f6e939355dcdabe109a67a5a505c38283000d4e51af58438477a"
   }
  }
 },
 "nbformat": 4,
 "nbformat_minor": 2
}

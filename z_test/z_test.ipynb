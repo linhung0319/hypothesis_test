{
 "cells": [
  {
   "cell_type": "code",
   "execution_count": 45,
   "metadata": {},
   "outputs": [],
   "source": [
    "from scipy.stats import norm\n",
    "import numpy as np\n",
    "import matplotlib.pyplot as plt \n",
    "%matplotlib inline\n",
    "import seaborn as sns\n",
    "sns.set_style('darkgrid')"
   ]
  },
  {
   "cell_type": "markdown",
   "metadata": {},
   "source": [
    "### Question 1: \n",
    "\n",
    "___\n",
    "\n",
    "Suppose the arousal of hot cats has a population that is normally distributed with a standard deviation of 6. Tomorrow you sample 49 hot cats from this population and obtain a mean arousal of 46.44 and a standard deviation of 5.6968.\n",
    "\n",
    "Using an alpha value of α = 0.01, is this observed mean significantly less than an expected arousal of 47?"
   ]
  },
  {
   "cell_type": "code",
   "execution_count": 46,
   "metadata": {},
   "outputs": [],
   "source": [
    "std = 6\n",
    "n = 49\n",
    "sample_mean = 46.44\n",
    "sample_std = 5.6968\n",
    "a = 0.01\n",
    "mu = 47"
   ]
  },
  {
   "cell_type": "markdown",
   "metadata": {},
   "source": [
    "H<sub>0 : mu = 47\n",
    "\n",
    "H<sub>1 : mu < 47"
   ]
  },
  {
   "cell_type": "code",
   "execution_count": 47,
   "metadata": {},
   "outputs": [
    {
     "name": "stdout",
     "output_type": "stream",
     "text": [
      "p_value =  0.2567707037112666\n"
     ]
    }
   ],
   "source": [
    "sample_mean_std = std / np.sqrt(n)\n",
    "z = (sample_mean - mu) / ( sample_mean_std )\n",
    "p_value = norm.cdf(z)\n",
    "print(\"p_value = \", p_value)"
   ]
  },
  {
   "cell_type": "code",
   "execution_count": 48,
   "metadata": {},
   "outputs": [
    {
     "data": {
      "text/plain": [
       "<matplotlib.legend.Legend at 0x1b157939220>"
      ]
     },
     "execution_count": 48,
     "metadata": {},
     "output_type": "execute_result"
    },
    {
     "data": {
      "image/png": "[encoded data removed]",
      "text/plain": [
       "<Figure size 432x288 with 1 Axes>"
      ]
     },
     "metadata": {},
     "output_type": "display_data"
    }
   ],
   "source": [
    "x_a = norm.ppf(a, loc=mu, scale=sample_mean_std)\n",
    "x = np.linspace(mu - sample_mean_std * 5,\n",
    "                mu + sample_mean_std * 5,\n",
    "                num=100)\n",
    "y = norm.pdf(x, loc=mu, scale=sample_mean_std)\n",
    "ax = sns.lineplot(x=x, y=y)\n",
    "plt.xticks([44, 45, 46, 47, 48, 49, 50])\n",
    "plt.vlines(sample_mean, 0, norm.pdf(sample_mean, loc=mu, scale=sample_mean_std), 'b', label='sample_mean')\n",
    "plt.vlines(x_a, 0, norm.pdf(x_a, loc=mu, scale=sample_mean_std), 'r', label='a')\n",
    "plt.legend()"
   ]
  },
  {
   "cell_type": "markdown",
   "metadata": {},
   "source": [
    "#### Ans:\n",
    "\n",
    "Since p_value > α, we fail to reject H<sub>0. \n",
    "\n",
    "The arousal of hot cats is not significant less than 47. "
   ]
  }
 ],
 "metadata": {
  "kernelspec": {
   "display_name": "Python 3.9.12 ('py39tf')",
   "language": "python",
   "name": "python3"
  },
  "language_info": {
   "codemirror_mode": {
    "name": "ipython",
    "version": 3
   },
   "file_extension": ".py",
   "mimetype": "text/x-python",
   "name": "python",
   "nbconvert_exporter": "python",
   "pygments_lexer": "ipython3",
   "version": "3.9.12"
  },
  "orig_nbformat": 4,
  "vscode": {
   "interpreter": {
    "hash": "1c86baa7119db6d0ebd3b6c19b269f1861b5db4f79c28ea1315b60050aa8faf5"
   }
  }
 },
 "nbformat": 4,
 "nbformat_minor": 2
}

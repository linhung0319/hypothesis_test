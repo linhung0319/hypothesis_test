{
 "cells": [
  {
   "cell_type": "code",
   "execution_count": 52,
   "metadata": {},
   "outputs": [],
   "source": [
    "from scipy.stats import norm\n",
    "import numpy as np\n",
    "import matplotlib.pyplot as plt \n",
    "%matplotlib inline\n",
    "import seaborn as sns\n",
    "sns.set_style('darkgrid')"
   ]
  },
  {
   "cell_type": "markdown",
   "metadata": {},
   "source": [
    "### Central limit Theorem\n",
    "\n",
    "When independent random variables are summed up, their sum tends toward a normal distribution even if the original variables themselves are not normally distributed.\n",
    "\n",
    "![](17fa70bfc1cbbc6d6476b9f45c9e9d07.jpg)\n",
    "\n",
    "1. No matter what distribution the population is, if the sample size is over 30, the sameple means approach normal distribution.\n",
    "\n",
    "2. No matter what distribution the population is, if the sample size is under 30, we can aproximate the sameple means with t-distribution.\n",
    "\n",
    "3. Given the population is normal distribution, the sample means is normal distribution, even if the sample size is under 30.\n",
    "\n",
    "4. We use Z-test with proportion data because the standard deviation of a proportion is a function of the proportion itself. Thus, once you have estimated the porportion in your sample, you don't have and extra source of uncertianty that you have to take into account. [See more](https://stats.stackexchange.com/questions/90893/why-use-a-z-test-rather-than-a-t-test-with-proportional-data)\n"
   ]
  },
  {
   "cell_type": "markdown",
   "metadata": {},
   "source": [
    "### Question 1: \n",
    "\n",
    "___\n",
    "\n",
    "Suppose the arousal of hot cats has a population that is normally distributed with a standard deviation of 6. Tomorrow you sample 49 hot cats from this population and obtain a mean arousal of 46.44 and a standard deviation of 5.6968.\n",
    "\n",
    "Using an alpha value of α = 0.01, is this observed mean significantly less than an expected arousal of 47?\n",
    "\n",
    "#from z_test_tutorial.pdf"
   ]
  },
  {
   "cell_type": "code",
   "execution_count": 53,
   "metadata": {},
   "outputs": [],
   "source": [
    "std = 6\n",
    "n = 49\n",
    "sample_mean = 46.44\n",
    "sample_std = 5.6968\n",
    "a = 0.01\n",
    "mu = 47"
   ]
  },
  {
   "cell_type": "markdown",
   "metadata": {},
   "source": [
    "H<sub>0 : mu = 47\n",
    "\n",
    "H<sub>1 : mu < 47"
   ]
  },
  {
   "cell_type": "code",
   "execution_count": 54,
   "metadata": {},
   "outputs": [
    {
     "name": "stdout",
     "output_type": "stream",
     "text": [
      "p_value =  0.2567707037112666\n"
     ]
    }
   ],
   "source": [
    "sample_mean_std = std / np.sqrt(n)\n",
    "z = (sample_mean - mu) / ( sample_mean_std )\n",
    "p_value = norm.cdf(z)\n",
    "print(\"p_value = \", p_value)"
   ]
  },
  {
   "cell_type": "code",
   "execution_count": 55,
   "metadata": {},
   "outputs": [
    {
     "data": {
      "text/plain": [
       "<matplotlib.legend.Legend at 0x240182e5730>"
      ]
     },
     "execution_count": 55,
     "metadata": {},
     "output_type": "execute_result"
    },
    {
     "data": {
      "image/png": "[encoded data removed]",
      "text/plain": [
       "<Figure size 432x288 with 1 Axes>"
      ]
     },
     "metadata": {},
     "output_type": "display_data"
    }
   ],
   "source": [
    "x_a = norm.ppf(a, loc=mu, scale=sample_mean_std)\n",
    "x = np.linspace(mu - sample_mean_std * 5,\n",
    "                mu + sample_mean_std * 5,\n",
    "                num=100)\n",
    "y = norm.pdf(x, loc=mu, scale=sample_mean_std)\n",
    "ax = sns.lineplot(x=x, y=y)\n",
    "plt.xticks([44, 45, 46, 47, 48, 49, 50])\n",
    "plt.vlines(sample_mean, 0, norm.pdf(sample_mean, loc=mu, scale=sample_mean_std), 'b', label='sample_mean')\n",
    "plt.vlines(x_a, 0, norm.pdf(x_a, loc=mu, scale=sample_mean_std), 'r', label='a')\n",
    "plt.legend()"
   ]
  },
  {
   "cell_type": "markdown",
   "metadata": {},
   "source": [
    "#### Ans:\n",
    "\n",
    "Since p_value > α, we fail to reject H<sub>0. \n",
    "\n",
    "The arousal of hot cats is not significant less than 47. "
   ]
  },
  {
   "cell_type": "markdown",
   "metadata": {},
   "source": [
    "\n",
    "\n",
    "### Question 2: \n",
    "\n",
    "___\n",
    "\n",
    "Suppose the jewelry of exams has a population that is normally distributed with a standard deviation of 5. You are walking down the street and sample 9 exams from this\n",
    "population and obtain a mean jewelry of 28.95 and a standard deviation of 6.3802.\n",
    "\n",
    "Using an alpha value of α = 0.01, is this observed mean significantly different than an expected jewelry of 27?\n",
    "\n",
    "#from z_test_tutorial.pdf"
   ]
  },
  {
   "cell_type": "code",
   "execution_count": 56,
   "metadata": {},
   "outputs": [],
   "source": [
    "mu = 27\n",
    "std = 5\n",
    "a = 0.01\n",
    "n = 9\n",
    "sample_mean = 28.95\n",
    "sample_std = 6.3802"
   ]
  },
  {
   "cell_type": "markdown",
   "metadata": {},
   "source": [
    "H<sub>0 : mu = 27\n",
    "\n",
    "H<sub>1 : mu $\\neq$ 27"
   ]
  },
  {
   "cell_type": "code",
   "execution_count": 57,
   "metadata": {},
   "outputs": [
    {
     "name": "stdout",
     "output_type": "stream",
     "text": [
      "p_value =  0.2420009688420368\n"
     ]
    }
   ],
   "source": [
    "sample_mean_std = std / np.sqrt(n)\n",
    "z = (sample_mean - mu) / sample_mean_std\n",
    "\n",
    "# The population is normal distribution, \n",
    "# so the sample means is normal distribution.\n",
    "p_value = (1 - norm.cdf(z)) * 2\n",
    "print(\"p_value = \", p_value)"
   ]
  },
  {
   "cell_type": "code",
   "execution_count": 76,
   "metadata": {},
   "outputs": [
    {
     "data": {
      "text/plain": [
       "<matplotlib.legend.Legend at 0x240186cc910>"
      ]
     },
     "execution_count": 76,
     "metadata": {},
     "output_type": "execute_result"
    },
    {
     "data": {
      "image/png": "[encoded data removed]",
      "text/plain": [
       "<Figure size 432x288 with 1 Axes>"
      ]
     },
     "metadata": {},
     "output_type": "display_data"
    }
   ],
   "source": [
    "x_a_left = norm.ppf(a/2, loc=mu, scale=sample_mean_std)\n",
    "x_a_right = norm.ppf(1-a/2, loc=mu, scale=sample_mean_std)\n",
    "x = np.linspace(mu - sample_mean_std * 5,\n",
    "                mu + sample_mean_std * 5,\n",
    "                num=100)\n",
    "y = norm.pdf(x, loc=mu, scale=sample_mean_std)\n",
    "ax = sns.lineplot(x=x, y=y)\n",
    "plt.vlines(sample_mean, 0, norm.pdf(sample_mean, loc=mu, scale=sample_mean_std), 'b', label='sample_mean')\n",
    "plt.vlines(x_a_left, 0, norm.pdf(x_a_left, loc=mu, scale=sample_mean_std), 'r', label='a')\n",
    "plt.vlines(x_a_right, 0, norm.pdf(x_a_right, loc=mu, scale=sample_mean_std), 'r', label='a')\n",
    "plt.legend()"
   ]
  },
  {
   "cell_type": "markdown",
   "metadata": {},
   "source": [
    "#### Ans:\n",
    "\n",
    "Since p_value > α, we fail to reject H<sub>0. \n",
    "\n",
    "The Jewelry of exams is not significantly different than 27.  "
   ]
  },
  {
   "cell_type": "markdown",
   "metadata": {},
   "source": [
    "### Example 3: \n",
    "\n",
    "___\n",
    "\n",
    "A company wants to improve the quality of products by reducing defects and monitoring the efficiency of assembly lines. In assembly line A, there were 18 defects reported out of 200 samples while in line B, 25 defects out of 600 samples were noted. \n",
    "\n",
    "Is there a difference in the procedures at a 0.05 alpha level?\n",
    "\n",
    "#from https://www.cuemath.com/data/z-test/"
   ]
  },
  {
   "cell_type": "code",
   "execution_count": 59,
   "metadata": {},
   "outputs": [],
   "source": [
    "a = 0.05\n",
    "# The problem can be viewed as sampling data \n",
    "# from (P_A - P_B). If A = B, then P_A - P_B = 0\n",
    "p_a = 18 / 200\n",
    "p_b = 25 / 600"
   ]
  },
  {
   "cell_type": "markdown",
   "metadata": {},
   "source": [
    "H<sub>0 : A = B\n",
    "\n",
    "H<sub>1 : A $\\neq$ B"
   ]
  },
  {
   "cell_type": "code",
   "execution_count": 70,
   "metadata": {},
   "outputs": [
    {
     "name": "stdout",
     "output_type": "stream",
     "text": [
      "p_value =  0.008669375420073067\n",
      "0.018413932677911766\n",
      "0.04833333333333333\n"
     ]
    }
   ],
   "source": [
    "# Since the Null hypothesis states A = B, \n",
    "# we use a pooled sample proportion to \n",
    "# compute standard error. \n",
    "p = (18 + 25) / (200 + 600)\n",
    "se = np.sqrt(p * (1 - p) * ( 1 / 200 + 1 / 600 ) )\n",
    "\n",
    "z = ( (p_a - p_b) - 0) / se\n",
    "p_value = (1 - norm.cdf(z)) * 2\n",
    "print(\"p_value = \", p_value)"
   ]
  },
  {
   "cell_type": "code",
   "execution_count": 78,
   "metadata": {},
   "outputs": [
    {
     "name": "stdout",
     "output_type": "stream",
     "text": [
      "p_a - p_b:  0.04833333333333333\n",
      "p_alpha_right:  0.0474311473853418\n"
     ]
    },
    {
     "data": {
      "image/png": "[encoded data removed]",
      "text/plain": [
       "<Figure size 432x288 with 1 Axes>"
      ]
     },
     "metadata": {},
     "output_type": "display_data"
    }
   ],
   "source": [
    "x_a_left = norm.ppf(a/2, loc=0, scale=se)\n",
    "x_a_right = norm.ppf(1-a/2, loc=0, scale=se)\n",
    "x = np.linspace(0 - se * 7,\n",
    "                0 + se * 7,\n",
    "                num=100)\n",
    "\n",
    "# Note that the probability density function \n",
    "# mesure the density of pobability. As a result,\n",
    "# the value could be greater than 1.\n",
    "y = norm.pdf(x, loc=0, scale=se)\n",
    "ax = sns.lineplot(x=x, y=y)\n",
    "plt.vlines(p_a - p_b, 0, norm.pdf(p_a-p_b, loc=0, scale=se), 'b', label='p_a - p_b')\n",
    "plt.vlines(x_a_left, 0, norm.pdf(x_a_left, loc=0, scale=se), 'r', label='a')\n",
    "plt.vlines(x_a_right, 0, norm.pdf(x_a_right, loc=0, scale=se), 'r', label='a')\n",
    "plt.legend()\n",
    "\n",
    "print(\"p_a - p_b: \", p_a - p_b)\n",
    "print(\"p_alpha_right: \", x_a_right)"
   ]
  },
  {
   "cell_type": "markdown",
   "metadata": {},
   "source": [
    "#### Ans:\n",
    "\n",
    "Since p_value < α, we rejects H<sub>0\n",
    "\n",
    "There is a significant difference between two lines."
   ]
  }
 ],
 "metadata": {
  "kernelspec": {
   "display_name": "Python 3.9.12 ('py39tf')",
   "language": "python",
   "name": "python3"
  },
  "language_info": {
   "codemirror_mode": {
    "name": "ipython",
    "version": 3
   },
   "file_extension": ".py",
   "mimetype": "text/x-python",
   "name": "python",
   "nbconvert_exporter": "python",
   "pygments_lexer": "ipython3",
   "version": "3.9.12"
  },
  "orig_nbformat": 4,
  "vscode": {
   "interpreter": {
    "hash": "1c86baa7119db6d0ebd3b6c19b269f1861b5db4f79c28ea1315b60050aa8faf5"
   }
  }
 },
 "nbformat": 4,
 "nbformat_minor": 2
}

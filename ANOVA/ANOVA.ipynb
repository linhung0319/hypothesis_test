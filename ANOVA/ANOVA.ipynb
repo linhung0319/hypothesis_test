{
 "cells": [
  {
   "cell_type": "code",
   "execution_count": 40,
   "metadata": {},
   "outputs": [],
   "source": [
    "from scipy.stats import f as f_test\n",
    "from scipy.stats import ncf\n",
    "from scipy.stats import t as t_test\n",
    "import numpy as np\n",
    "import matplotlib.pyplot as plt \n",
    "%matplotlib inline\n",
    "import seaborn as sns\n",
    "sns.set_style('darkgrid')"
   ]
  },
  {
   "cell_type": "markdown",
   "metadata": {},
   "source": [
    "### ANOVA\n",
    "\n",
    "* Assumptions\n",
    "\n",
    "1. Independence of the observations \n",
    "\n",
    "2. No significant outliers\n",
    "\n",
    "3. Normality\n",
    "\n",
    "4. Homogeneity of variances : The variance among the group should be approximately equal\n",
    "\n",
    "It is important to note that ANOVA is not robust to violations to the assumption of independence. This is to say, that even if you violate the assumptions of homogeneity or normality, you can conduct the test and basically trust the findings. However, the results of the ANOVA are invalid if the independence assumption is violated. In general, with violations of homogeneity the analysis is considered robust if you have equal sized groups. With violations of normality, continuing with the ANOVA is generally ok if you have a large sample size.\n",
    "\n",
    "* When to use ANOVA\n",
    "\n",
    "1. No matter what distribution the population is, if the sample size is over 30, the sameple means approach normal distribution. If we want to compare multiple sample means, we use ANOVA.\n",
    "\n",
    "2. Given the population is normal distribution, the sample means is thus normal distribution. If we want to compare multiple sample means, we use ANOVA.\n",
    "\n",
    "##### Effect Size\n",
    "\n",
    "The effect size tells us how much do the data differ from the hypothosis.\n",
    "\n",
    "![](effect_size.png)\n",
    "\n",
    "| d | Effect Size |\n",
    "| --- | --- |\n",
    "| 0.14 | large |\n",
    "| 0.06 | medium |\n",
    "| 0.01 | small |\n",
    "\n",
    "##### Power Analysis\n",
    "\n",
    "Power analysis answers questions like \"how much statistical power does my study have?\" and \"how big a sample size do I need?\".\n",
    "\n",
    "![](power_analysis.PNG)\n",
    "\n",
    "If H0 is not rejected, F score is in f-distribution.\n",
    "\n",
    "If H0 is rejected, F score is in non-central f-distribution\n",
    "\n",
    "![](f_distribution.PNG)\n",
    "\n",
    "![](non_central_parameter.PNG) \n",
    "![](parameter.PNG)"
   ]
  },
  {
   "cell_type": "markdown",
   "metadata": {},
   "source": [
    "### Post Hoc Test\n",
    "\n",
    "ANOVA can only know whether the mean of three or more groups are the same. However, it can not tell us how one group differs from a certain group. We can not use t-test in this situation because the type I error will increase if we use t-test on the same group multiple times. Instead, we use post hoc test which is a more rigorous test than t-test.\n",
    "\n",
    "![](FWER.PNG)\n",
    "\n",
    "1. Tukey HSD: Used to determine whether there is a difference between the mean of all possible pairs using a studentized range distribution.\n",
    "\n",
    "2. Dunnet method: Used to determine whether there is a difference from the control group using modified t-test statistics (Dunnett's t-distribution)\n",
    "\n",
    "![](choose_post_hoc.jpg)\n",
    "\n",
    "![see more](https://www.ncbi.nlm.nih.gov/pmc/articles/PMC6193594/)"
   ]
  },
  {
   "cell_type": "markdown",
   "metadata": {},
   "source": [
    "### Question 1\n",
    "\n",
    "---\n",
    "\n",
    "From our survey we can calculate Caffeiene consumption as a function of how much you\n",
    "said you liked math. Here is a table of statistics based on our survey:\n",
    "\n",
    "|| Not at all | Just a little | A fair amount | Very much |\n",
    "|---|---|---|---|---|\n",
    "| n | 14 | 56 | 75 | 6 |\n",
    "|mean | 1.21 | 1.01 | 1.41 | 3 |\n",
    "|SS | 7.8574 | 41.7456 | 354.1363 | 108 |\n",
    "| ntotal | 151 |\n",
    "|grand mean | 1.3065 |\n",
    "|SStotal | 534.834 |\n",
    "\n",
    "Calculate the standard errors of the mean for each of the 4 groups.\n",
    "\n",
    "Make a bar graph of the means for each of the 4 groups with error bars as the standard\n",
    "error of the means.\n",
    "\n",
    "Using an alpha value of α = 0.05, is there difference in Caffeine consumption across the 4 groups of students who vary their preference for math?\n",
    "\n",
    "* from one_factor_ANOVA_tutorial.pdf"
   ]
  },
  {
   "cell_type": "code",
   "execution_count": 41,
   "metadata": {},
   "outputs": [],
   "source": [
    "n = np.array([14, 56, 75, 6])\n",
    "n_total = np.sum(n)\n",
    "mean = np.array([1.21, 1.01, 1.41, 3])\n",
    "SSW_g = np.array([7.8574, 41.7456, 354.1363, 108])\n",
    "mu = np.average(mean, weights=n)\n",
    "SST = 534.834\n",
    "alpha = 0.05\n",
    "\n",
    "SSW = np.sum(SSW_g)\n",
    "SSB = np.sum( np.square(mean - mu) * n )\n",
    "\n",
    "k = 4\n",
    "df_SSW = n_total - k\n",
    "df_SSB = k - 1"
   ]
  },
  {
   "cell_type": "markdown",
   "metadata": {},
   "source": [
    "H<sub>0 : There is no difference among group means\n",
    "\n",
    "H<sub>1 : At lease one group differs significantly from the overrall mean of the dependent variable. "
   ]
  },
  {
   "cell_type": "code",
   "execution_count": 48,
   "metadata": {},
   "outputs": [
    {
     "name": "stdout",
     "output_type": "stream",
     "text": [
      "F:  2.208471453651477\n",
      "F_crit:  2.6661487758521765\n",
      "p_value:  0.08956999737639892\n",
      "eta_square:  0.04312463900725823\n"
     ]
    }
   ],
   "source": [
    "MSW = SSW / df_SSW\n",
    "MSB = SSB / df_SSB\n",
    "f = MSB / MSW\n",
    "print(\"F: \", f)\n",
    "\n",
    "f_crit = f_test.ppf(1 - alpha, dfn=df_SSB, dfd=df_SSW)\n",
    "print(\"F_crit: \", f_crit)\n",
    "\n",
    "p_value = 1 - f_test.cdf(f, dfn=df_SSB, dfd=df_SSW)\n",
    "print(\"p_value: \", p_value)\n",
    "\n",
    "eta_square = SSB / SST \n",
    "print(\"eta_square: \", eta_square)"
   ]
  },
  {
   "cell_type": "code",
   "execution_count": 49,
   "metadata": {},
   "outputs": [
    {
     "data": {
      "text/plain": [
       "<matplotlib.legend.Legend at 0x25da5896340>"
      ]
     },
     "execution_count": 49,
     "metadata": {},
     "output_type": "execute_result"
    },
    {
     "data": {
      "image/png": "[encoded data removed]",
      "text/plain": [
       "<Figure size 432x288 with 1 Axes>"
      ]
     },
     "metadata": {},
     "output_type": "display_data"
    },
    {
     "data": {
      "image/png": "[encoded data removed]",
      "text/plain": [
       "<Figure size 432x288 with 1 Axes>"
      ]
     },
     "metadata": {},
     "output_type": "display_data"
    }
   ],
   "source": [
    "### standard deviation of the sample mean of each group\n",
    "SW_g = np.sqrt(SSW_g / (n - 1)) / np.sqrt(n)\n",
    "data = [0 for i in range(k)]\n",
    "for i in range(k):\n",
    "    data[i] = t_test.rvs(df=n[i]-1, loc=mean[i], scale=SW_g[i], size=100)\n",
    "\n",
    "plt.figure(1)\n",
    "plot = sns.barplot(data=data, ci='sd')\n",
    "plot.set_xticklabels([\"Not at all\",  \"Just a little\", \"A fair amount\",  \"Very much\"])\n",
    "plot.margins(0.1)\n",
    "plot.set_ylim(0, 6)\n",
    "\n",
    "### non-central parameter\n",
    "sample_std = np.sqrt(SST / (n_total - 1))\n",
    "nc = SSB / sample_std\n",
    "\n",
    "x = np.linspace(0, 10, num=100)\n",
    "y0 = f_test.pdf(x, dfn=df_SSB, dfd=df_SSW)\n",
    "y1 = ncf.pdf(x, dfn=df_SSB, dfd=df_SSW, nc=nc)\n",
    "plt.figure(2)\n",
    "plot = sns.lineplot(x=x, y=y0, label=\"H0\")\n",
    "plot = sns.lineplot(x=x, y=y1, label=\"H1\")\n",
    "plt.vlines(f, 0, f_test.pdf(f, dfn=df_SSB, dfd=df_SSW), 'b', label='F')\n",
    "plt.vlines(f_crit, 0, 0.7, 'r', label='F_crit')\n",
    "plt.legend()"
   ]
  },
  {
   "cell_type": "markdown",
   "metadata": {},
   "source": [
    "#### Ans:\n",
    "\n",
    "Since p_value > α, we failed to reject H<sub>0. \n",
    "\n",
    "There is not a significant difference in mean Caffeine consumption across the 4 groups of students who vary their preference.\n",
    "\n",
    "The effect size calculated by eta-squared is 0.04 which is medium.\n",
    "\n",
    "β (Type II Error) = 0.234 which means if we rejected H1, the sample mean is 23.4% to be H1."
   ]
  }
 ],
 "metadata": {
  "kernelspec": {
   "display_name": "Python 3.9.12 ('py39tf')",
   "language": "python",
   "name": "python3"
  },
  "language_info": {
   "codemirror_mode": {
    "name": "ipython",
    "version": 3
   },
   "file_extension": ".py",
   "mimetype": "text/x-python",
   "name": "python",
   "nbconvert_exporter": "python",
   "pygments_lexer": "ipython3",
   "version": "3.9.12"
  },
  "orig_nbformat": 4,
  "vscode": {
   "interpreter": {
    "hash": "df238622a495e1563c034796ccb7979ee1cb944f3608c1d858728f86cec43c42"
   }
  }
 },
 "nbformat": 4,
 "nbformat_minor": 2
}

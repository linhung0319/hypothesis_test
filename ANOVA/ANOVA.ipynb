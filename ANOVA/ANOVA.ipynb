{
 "cells": [
  {
   "cell_type": "code",
   "execution_count": 1,
   "metadata": {},
   "outputs": [],
   "source": [
    "from scipy.stats import f as f_test\n",
    "from scipy.stats import ncf\n",
    "from scipy.stats import t as t_test\n",
    "import pandas as pd\n",
    "import numpy as np\n",
    "import matplotlib.pyplot as plt \n",
    "%matplotlib inline\n",
    "import seaborn as sns\n",
    "sns.set_style('darkgrid')"
   ]
  },
  {
   "cell_type": "markdown",
   "metadata": {},
   "source": [
    "### ANOVA\n",
    "\n",
    "* Assumptions\n",
    "\n",
    "1. Independence of the observations \n",
    "\n",
    "2. No significant outliers\n",
    "\n",
    "3. Normality\n",
    "\n",
    "4. Homogeneity of variances : The variance among the group should be approximately equal\n",
    "\n",
    "It is important to note that ANOVA is not robust to violations to the assumption of independence. This is to say, that even if you violate the assumptions of homogeneity or normality, you can conduct the test and basically trust the findings. However, the results of the ANOVA are invalid if the independence assumption is violated. In general, with violations of homogeneity the analysis is considered robust if you have equal sized groups. With violations of normality, continuing with the ANOVA is generally ok if you have a large sample size.\n",
    "\n",
    "* When to use ANOVA\n",
    "\n",
    "1. No matter what distribution the population is, if the sample size is over 30, the sameple means approach normal distribution. If we want to compare multiple sample means, we use ANOVA.\n",
    "\n",
    "2. Given the population is normal distribution, the sample means is thus normal distribution. If we want to compare multiple sample means, we use ANOVA.\n",
    "\n",
    "---\n",
    "\n",
    "### One-Way ANOVA\n",
    "\n",
    "![](./resources/1_way_SS.PNG)\n",
    "\n",
    "![](./resources/1_way_Fi.PNG)\n",
    "\n",
    "[REFERENCE](https://www.alexanderdemos.org/ANOVA5.html)\n",
    "\n",
    "---\n",
    "\n",
    "### Two-Way ANOVA\n",
    "\n",
    "We now have two factors, and we will test the main effect and interaction\n",
    "\n",
    "* Main effect (Factor A: Rows): The independent effects of Length of Exposure on Perceived Ability\n",
    "\n",
    "* Main effect (Factor B: Columns): The independent effects of Type of Exposure on Perceived Ability\n",
    "\n",
    "* Interaction: The joint effects of Length and Type of Exposure on Perceived Ability\n",
    "\n",
    "![](./resources/2_way_SS.PNG)\n",
    "\n",
    "![](./resources/2_way_F.PNG)\n",
    "\n",
    "[REFERENCE](https://www.alexanderdemos.org/ANOVA8.html)\n",
    "\n",
    "---\n",
    "\n",
    "### Main Effects vs Interaction\n",
    "\n",
    "If the interaction is telling a conflicting story with the main effects, you may either not want to follow up the main effects or carefully explain them.\n",
    "\n",
    "![](./resources/Interaction.PNG)\n",
    "\n",
    "The above graph shows there is an interaction between (Watching, Reading, Thinking) and (Low, High). It means that even if we conclude there is significant difference in group (Low, High) from 2-way ANOVA. This conclusion does not always correct in different group (Watching, Reading, Thinking).\n",
    "\n",
    "[REFERENCE](https://www.alexanderdemos.org/ANOVA9.html#Basic_Rules)\n",
    "\n",
    "---\n",
    "\n",
    "### Effect Size\n",
    "\n",
    "The effect size tells us how much do the data differ from the hypothosis. SSB is the variation caused by treatment, and SST is the variation of Treatment + Noise.\n",
    "\n",
    "![](./resources/effect_size.png)\n",
    "\n",
    "| d | Effect Size |\n",
    "| --- | --- |\n",
    "| 0.14 | large |\n",
    "| 0.06 | medium |\n",
    "| 0.01 | small |\n",
    "\n",
    "---\n",
    "\n",
    "### Power Analysis\n",
    "\n",
    "Power analysis answers questions like \"how much statistical power does my study have?\" and \"how big a sample size do I need?\".\n",
    "\n",
    "![](./resources/power_analysis.PNG)\n",
    "\n",
    "If H0 is not rejected, F score is in f-distribution.\n",
    "\n",
    "If H0 is rejected, F score is in non-central f-distribution\n",
    "\n",
    "![](./resources/f_distribution.PNG)\n",
    "\n",
    "![](./resources/non_central_parameter.PNG) \n",
    "![](./resources/parameter.PNG)\n",
    "\n",
    "We use MSW to estimate the variance."
   ]
  },
  {
   "cell_type": "markdown",
   "metadata": {},
   "source": [
    "\n",
    "---\n",
    "\n",
    "### Post Hoc Test\n",
    "\n",
    "ANOVA can only know whether the mean of three or more groups are the same. However, it can not tell us how one group differs from a certain group. We can not use t-test in this situation because the type I error will increase if we use t-test on the same group multiple times. Instead, we use post hoc test which is a more rigorous test than t-test.\n",
    "\n",
    "![](./resources/FWER.PNG)\n",
    "\n",
    "Tukey HSD(Honestly Sinificant Difference): This test determines whether there is a difference between the mean of all possible pairs. \n",
    "\n",
    "![](./resources/choose_post_hoc.jpg)\n",
    "\n",
    "[REFERENCE 1](https://www.ncbi.nlm.nih.gov/pmc/articles/PMC6193594/)\n",
    "\n",
    "[REFERENCE 2](https://www.youtube.com/watch?v=u9h8qjxMV-Y&t=185s)"
   ]
  },
  {
   "cell_type": "markdown",
   "metadata": {},
   "source": [
    "\n",
    "---\n",
    "\n",
    "### Question 1\n",
    "\n",
    "From our survey we can calculate Caffeiene consumption as a function of how much you\n",
    "said you liked math. Here is a table of statistics based on our survey:\n",
    "\n",
    "|| Not at all | Just a little | A fair amount | Very much |\n",
    "|---|---|---|---|---|\n",
    "| n | 14 | 56 | 75 | 6 |\n",
    "|mean | 1.21 | 1.01 | 1.41 | 3 |\n",
    "|SS | 7.8574 | 41.7456 | 354.1363 | 108 |\n",
    "| ntotal | 151 |\n",
    "|grand mean | 1.3065 |\n",
    "|SStotal | 534.834 |\n",
    "\n",
    "Calculate the standard errors of the mean for each of the 4 groups.\n",
    "\n",
    "Make a bar graph of the means for each of the 4 groups with error bars as the standard\n",
    "error of the means.\n",
    "\n",
    "Using an alpha value of α = 0.05, is there difference in Caffeine consumption across the 4 groups of students who vary their preference for math?\n",
    "\n",
    "* from [one_factor_ANOVA_tutorial.pdf](./resources/one_factor_ANOVA_tutorial.pdf)"
   ]
  },
  {
   "cell_type": "code",
   "execution_count": 2,
   "metadata": {},
   "outputs": [],
   "source": [
    "n = np.array([14, 56, 75, 6])\n",
    "n_total = np.sum(n)\n",
    "mean = np.array([1.21, 1.01, 1.41, 3])\n",
    "SSW_g = np.array([7.8574, 41.7456, 354.1363, 108])\n",
    "mu = np.average(mean, weights=n)\n",
    "SST = 534.834\n",
    "alpha = 0.05\n",
    "\n",
    "SSW = np.sum(SSW_g)\n",
    "SSB = np.sum( np.square(mean - mu) * n )\n",
    "\n",
    "k = 4\n",
    "df_SSW = n_total - k\n",
    "df_SSB = k - 1"
   ]
  },
  {
   "cell_type": "markdown",
   "metadata": {},
   "source": [
    "H<sub>0 : There is no difference among group means\n",
    "\n",
    "H<sub>1 : At lease one group differs significantly from the overrall mean of the dependent variable. "
   ]
  },
  {
   "cell_type": "code",
   "execution_count": 3,
   "metadata": {},
   "outputs": [
    {
     "name": "stdout",
     "output_type": "stream",
     "text": [
      "F:  2.208471453651477\n",
      "F_crit:  2.6661487758521765\n",
      "p_value:  0.08956999737639892\n",
      "eta_squared:  0.04312463900725823\n"
     ]
    }
   ],
   "source": [
    "MSW = SSW / df_SSW\n",
    "MSB = SSB / df_SSB\n",
    "f = MSB / MSW\n",
    "print(\"F: \", f)\n",
    "\n",
    "# dfn: numerator, dfd: denominator\n",
    "f_crit = f_test.ppf(1 - alpha, dfn=df_SSB, dfd=df_SSW)\n",
    "print(\"F_crit: \", f_crit)\n",
    "\n",
    "p_value = 1 - f_test.cdf(f, dfn=df_SSB, dfd=df_SSW)\n",
    "print(\"p_value: \", p_value)\n",
    "\n",
    "eta_squared = SSB / SST \n",
    "print(\"eta_squared: \", eta_squared)"
   ]
  },
  {
   "cell_type": "code",
   "execution_count": 4,
   "metadata": {},
   "outputs": [
    {
     "data": {
      "text/plain": [
       "<matplotlib.legend.Legend at 0x267d5374970>"
      ]
     },
     "execution_count": 4,
     "metadata": {},
     "output_type": "execute_result"
    },
    {
     "data": {
      "image/png": "[encoded data removed]",
      "text/plain": [
       "<Figure size 432x288 with 1 Axes>"
      ]
     },
     "metadata": {},
     "output_type": "display_data"
    },
    {
     "data": {
      "image/png": "[encoded data removed]",
      "text/plain": [
       "<Figure size 432x288 with 1 Axes>"
      ]
     },
     "metadata": {},
     "output_type": "display_data"
    }
   ],
   "source": [
    "### standard deviation of the sample mean of each group\n",
    "SW_g = np.sqrt(SSW_g / (n - 1)) / np.sqrt(n)\n",
    "data = [0 for i in range(k)]\n",
    "for i in range(k):\n",
    "    data[i] = t_test.rvs(df=n[i]-1, loc=mean[i], scale=SW_g[i], size=100)\n",
    "\n",
    "plt.figure(1)\n",
    "plot = sns.barplot(data=data, ci='sd')\n",
    "plot.set_xticklabels([\"Not at all\",  \"Just a little\", \"A fair amount\",  \"Very much\"])\n",
    "plot.margins(0.1)\n",
    "plot.set_ylim(0, 6)\n",
    "\n",
    "### non-central parameter\n",
    "nc = SSB / MSW\n",
    "\n",
    "x = np.linspace(0, 10, num=100)\n",
    "y0 = f_test.pdf(x, dfn=df_SSB, dfd=df_SSW)\n",
    "y1 = ncf.pdf(x, dfn=df_SSB, dfd=df_SSW, nc=nc)\n",
    "plt.figure(2)\n",
    "plot = sns.lineplot(x=x, y=y0, label=\"H0\")\n",
    "plot = sns.lineplot(x=x, y=y1, label=\"H1\")\n",
    "plt.vlines(f, 0, f_test.pdf(f, dfn=df_SSB, dfd=df_SSW), 'b', label='F')\n",
    "plt.vlines(f_crit, 0, 0.7, 'r', label='F_crit')\n",
    "plt.legend()"
   ]
  },
  {
   "cell_type": "markdown",
   "metadata": {},
   "source": [
    "#### Ans:\n",
    "\n",
    "Since p_value > α, we failed to reject H<sub>0. \n",
    "\n",
    "There is not a significant difference in mean Caffeine consumption across the 4 groups of students who vary their preference.\n",
    "\n",
    "The effect size calculated by eta-squared is 0.04 which is medium."
   ]
  },
  {
   "cell_type": "markdown",
   "metadata": {},
   "source": [
    "\n",
    "---\n",
    "\n",
    "### Question 2\n",
    "\n",
    "The Wine dataset consists of 3 different type of wine. \n",
    "\n",
    "Using an alpha value of α = 0.05, is there difference in the malic_acid across the 3 type of wine?"
   ]
  },
  {
   "cell_type": "code",
   "execution_count": 5,
   "metadata": {},
   "outputs": [
    {
     "name": "stdout",
     "output_type": "stream",
     "text": [
      "mean_g: [2.01067797 1.93267606 3.33375   ]       mean: 2.425701340813241\n",
      "SSW_g:  [27.49777288 72.19659155 55.626325  ]\n",
      "SSW: 155.32068943065167     SSB: 66.99918243986482     SST: 222.31987187051658\n"
     ]
    }
   ],
   "source": [
    "from sklearn.datasets import load_wine\n",
    "wine = load_wine()\n",
    "data_x = wine.data[:, 1]\n",
    "data_y = wine.target\n",
    "n_g = np.array([0, 0, 0])\n",
    "for y in data_y:\n",
    "    n_g[y] += 1\n",
    "\n",
    "x = {0:data_x[:n_g[0]], 1:data_x[n_g[0]:n_g[0]+n_g[1]], 2:data_x[n_g[0]+n_g[1]:]}\n",
    "\n",
    "alpha = 0.05\n",
    "n = np.sum(n_g)\n",
    "\n",
    "k = 3\n",
    "df_SSB = k - 1\n",
    "df_SSW = n - k\n",
    "df_SST = n - 1\n",
    "\n",
    "mean_g = np.array([np.mean(x[i]) for i in range(k)])\n",
    "mean = np.mean(mean_g)\n",
    "print(\"mean_g: {}       mean: {}\".format(mean_g, mean))\n",
    "\n",
    "SSW_g = np.array([np.sum(np.square(x[i] - mean_g[i])) for i in range(k)])\n",
    "print(\"SSW_g: \", SSW_g)\n",
    "SSW = np.sum(SSW_g)\n",
    "SSB = np.sum(n_g * np.square(mean_g - mean))\n",
    "SST = np.sum([np.sum(np.square(x[i] - mean)) for i in range(k)])\n",
    "print(\"SSW: {}     SSB: {}     SST: {}\".format(SSW, SSB, SST))\n",
    "\n"
   ]
  },
  {
   "cell_type": "markdown",
   "metadata": {},
   "source": [
    "H<sub>0 : There is no difference among group means\n",
    "\n",
    "H<sub>1 : At lease one group differs significantly from the overrall mean of the dependent variable. "
   ]
  },
  {
   "cell_type": "code",
   "execution_count": 6,
   "metadata": {},
   "outputs": [
    {
     "name": "stdout",
     "output_type": "stream",
     "text": [
      "F:  37.7440280813694\n",
      "F_crit:  3.0476049210928564\n",
      "p_value:  2.353672812205332e-14\n",
      "eta_squared:  0.3013638946269565\n",
      "Beta:  1.8242912179970812e-10\n",
      "Power:  0.9999999998175709\n"
     ]
    }
   ],
   "source": [
    "MSB = SSB / df_SSB\n",
    "MSW = SSW / df_SSW\n",
    "f = MSB / MSW\n",
    "print(\"F: \", f)\n",
    "\n",
    "# dfn: numerator, dfd: denominator\n",
    "f_crit = f_test.ppf(1 - alpha, dfn=df_SSB, dfd=df_SSW)\n",
    "print(\"F_crit: \", f_crit)\n",
    "\n",
    "p_value = 1 - f_test.cdf(f, dfn=df_SSB, dfd=df_SSW)\n",
    "print(\"p_value: \", p_value)\n",
    "\n",
    "eta_squared = SSB / SST\n",
    "print(\"eta_squared: \", eta_squared)\n",
    "\n",
    "nc = SSB / MSW\n",
    "beta = ncf.cdf(f_crit, dfn=df_SSB, dfd=df_SSW, nc=nc)\n",
    "print(\"Beta: \", beta)\n",
    "print(\"Power: \", 1 - beta)"
   ]
  },
  {
   "cell_type": "code",
   "execution_count": 7,
   "metadata": {},
   "outputs": [
    {
     "data": {
      "text/plain": [
       "(0.5, 4.5)"
      ]
     },
     "execution_count": 7,
     "metadata": {},
     "output_type": "execute_result"
    },
    {
     "data": {
      "image/png": "[encoded data removed]",
      "text/plain": [
       "<Figure size 432x288 with 1 Axes>"
      ]
     },
     "metadata": {},
     "output_type": "display_data"
    }
   ],
   "source": [
    "plt.figure(1)\n",
    "plot = sns.barplot(data=[x[i] for i in range(k)], ci='sd')\n",
    "plot.set_xticklabels(wine.target_names)\n",
    "plot.margins(0.1)\n",
    "plot.set_ylim(0.5, 4.5)"
   ]
  },
  {
   "cell_type": "markdown",
   "metadata": {},
   "source": [
    "#### Ans:\n",
    "\n",
    "Since p_value < α, we rejected H<sub>0. \n",
    "\n",
    "There is significant difference in the mean of malic_acid across the 3 type of irises.\n",
    "\n",
    "The effect size calculated by eta-squared is 0.3 which is large.\n",
    "\n",
    "β (Type II Error) = 0 which means if we rejected H1, there is a 0% chance that we are wrong.\n",
    "\n",
    "The power of this analysis is 1 which mean that we have a 100% chance that we correctly reject H0"
   ]
  },
  {
   "cell_type": "markdown",
   "metadata": {},
   "source": [
    "##### Post Hoc Test:\n",
    "\n",
    "Since we knew there was difference in group means, we wanted to find which group differs from other groups. To compare all group pairs, we employed a Tukey HSD test."
   ]
  },
  {
   "cell_type": "code",
   "execution_count": 8,
   "metadata": {},
   "outputs": [
    {
     "name": "stdout",
     "output_type": "stream",
     "text": [
      "Multiple Comparison of Means - Tukey HSD, FWER=0.05\n",
      "===================================================\n",
      "group1 group2 meandiff p-adj   lower  upper  reject\n",
      "---------------------------------------------------\n",
      "     0      1   -0.078 0.8855 -0.4703 0.3143  False\n",
      "     0      2   1.3231    0.0  0.8902 1.7559   True\n",
      "     1      2   1.4011    0.0  0.9849 1.8172   True\n",
      "---------------------------------------------------\n"
     ]
    }
   ],
   "source": [
    "from statsmodels.stats.multicomp import pairwise_tukeyhsd\n",
    "\n",
    "tukey = pairwise_tukeyhsd(endog=data_x, groups=data_y, alpha=alpha)\n",
    "print(tukey)\n"
   ]
  },
  {
   "cell_type": "markdown",
   "metadata": {},
   "source": [
    "\n",
    "---\n",
    "\n",
    "### Question 3\n",
    "\n",
    "They hypothesized that the more people merely watch others, the more they believe they can perform the skill themselves.\n",
    "\n",
    "They compared extensively watching the “tablecloth trick” with extensively reading or thinking about it. Participants assessed their own abilities to perform the “tablecloth trick.” \n",
    "\n",
    "Participants were asked to rate from 1 to 7. \n",
    "\n",
    "The study was a 3 (type of exposure: watch, read, think) ? 2 (amount of exposure: low, high) between-subjects design.\n",
    "\n",
    "* From [REFERENCE](https://www.alexanderdemos.org/ANOVA9.html#Basic_Rules)"
   ]
  },
  {
   "cell_type": "code",
   "execution_count": 9,
   "metadata": {},
   "outputs": [
    {
     "name": "stdout",
     "output_type": "stream",
     "text": [
      "[[[1 3 3 4 2]\n",
      "  [3 2 3 1 4]\n",
      "  [3 3 2 3 1]]\n",
      "\n",
      " [[6 4 7 5 5]\n",
      "  [5 3 2 3 2]\n",
      "  [3 2 1 4 4]]]\n"
     ]
    }
   ],
   "source": [
    "### data\n",
    "num_cols = 3\n",
    "num_rows = 2 \n",
    "alpha = 0.05\n",
    "\n",
    "data = {\"rate\": [1, 3, 3, 4, 2, \n",
    "                 3, 2, 3, 1, 4,\n",
    "                 3, 3, 2, 3, 1,\n",
    "                 6, 4, 7, 5, 5, \n",
    "                 5, 3, 2, 3, 2, \n",
    "                 3, 2, 1, 4, 4],\n",
    "        \"type\": ([\"Watching\"]*5 + [\"Reading\"]*5 + [\"Thinking\"]*5) * 2,\n",
    "        \"exposure\": [\"Low\"]*15 + [\"High\"]*15}\n",
    "df = pd.DataFrame(data)\n",
    "data_array = np.array(data[\"rate\"]).reshape(2, 3, 5)\n",
    "print(data_array)"
   ]
  },
  {
   "cell_type": "code",
   "execution_count": 10,
   "metadata": {},
   "outputs": [
    {
     "name": "stdout",
     "output_type": "stream",
     "text": [
      "mean_cell: \n",
      "[[2.6 2.6 2.4]\n",
      " [5.4 3.  2.8]]\n",
      "SSW_cell: \n",
      "[[5.2 5.2 3.2]\n",
      " [5.2 6.  6.8]]\n",
      "\n",
      "n_grand: 30\n",
      "n_rows: [15 15]\n",
      "n_cols: [10 10 10]\n",
      "\n",
      "mean_grand: 3.1333333333333333\n",
      "mean_rows: [2.53333333 3.73333333]\n",
      "mean_cols: [4.  2.8 2.6]\n",
      "\n",
      "SSW_c: 31.6000\tSSB_col: 11.4667\tSSB_row: 10.8000\n",
      "SST: 1386.8456\tSS_rxc: 1332.9789\n",
      "\n",
      "df_SSW_c: 24\tdf_SSB_col: 2\tdf_SSB_row: 1\n",
      "df_SST: 29\tdf_SS_rxc: 2\n"
     ]
    }
   ],
   "source": [
    "n_cell = 5 * np.ones((2, 3), dtype='int')\n",
    "mean_cell = np.mean(data_array, axis=2)\n",
    "SSW_cell = np.sum(np.square(data_array - mean_cell.reshape(2, 3, 1)), axis=2)\n",
    "print(\"mean_cell: \")\n",
    "print(mean_cell)\n",
    "print(\"SSW_cell: \")\n",
    "print(SSW_cell)\n",
    "print(\"\")\n",
    "\n",
    "n_grand = np.sum(n_cell)\n",
    "n_cols = np.sum(n_cell, axis=0)\n",
    "n_rows = np.sum(n_cell, axis=1)\n",
    "print(\"n_grand: {}\".format(n_grand))\n",
    "print(\"n_rows: {}\".format(n_rows))\n",
    "print(\"n_cols: {}\".format(n_cols))\n",
    "print(\"\")\n",
    "\n",
    "mean_grand = np.average(mean_cell, weights=n_cell)\n",
    "mean_rows = np.average(mean_cell, axis=1, weights=n_cell)\n",
    "mean_cols = np.average(mean_cell, axis=0, weights=n_cell)\n",
    "print(\"mean_grand: {}\".format(mean_grand))\n",
    "print(\"mean_rows: {}\".format(mean_rows))\n",
    "print(\"mean_cols: {}\".format(mean_cols))\n",
    "print(\"\")\n",
    "\n",
    "SSW_c = np.sum(SSW_cell)\n",
    "SSB_col = np.sum( n_cols * np.square(mean_cols - mean_grand) )\n",
    "SSB_row = np.sum( n_rows * np.square(mean_rows - mean_grand) )\n",
    "SST = 1386.8456\n",
    "SS_rxc = SST - SSW_c - SSB_col - SSB_row\n",
    "print(\"SSW_c: {:.4f}\\tSSB_col: {:.4f}\\tSSB_row: {:.4f}\".format(SSW_c, SSB_col, SSB_row))\n",
    "print(\"SST: {:.4f}\\tSS_rxc: {:.4f}\".format(SST, SS_rxc))\n",
    "print(\"\")\n",
    "\n",
    "df_SSW_c = n_grand - num_cols * num_rows\n",
    "df_SSB_col = num_cols - 1\n",
    "df_SSB_row = num_rows - 1\n",
    "df_SS_rxc = (num_cols - 1) * (num_rows - 1)\n",
    "df_SST = n_grand - 1\n",
    "print(\"df_SSW_c: {}\\tdf_SSB_col: {}\\tdf_SSB_row: {}\".format(df_SSW_c, df_SSB_col, df_SSB_row))\n",
    "print(\"df_SST: {}\\tdf_SS_rxc: {}\".format(df_SST, df_SS_rxc))"
   ]
  },
  {
   "cell_type": "markdown",
   "metadata": {},
   "source": [
    "Main Effects:\n",
    "\n",
    "H<sub>0 : All groups have equal means\n",
    "\n",
    "H<sub>1 : At least 1 group is different from the other\n",
    "\n",
    "Interaction:\n",
    "\n",
    "H<sub>0 : There is no interaction between factors A and B. All the mean differences between treatment conditions are explained by the main effects.\n",
    "\n",
    "H<sub>1 : There is an interaction between factors A and B. The mean differences between treatment conditions are not what would be predicted from the overall main effects of the two factors."
   ]
  },
  {
   "cell_type": "code",
   "execution_count": 11,
   "metadata": {},
   "outputs": [
    {
     "name": "stdout",
     "output_type": "stream",
     "text": [
      "MSW_c: 1.3167\tMSB_col: 5.7333\tMSB_row: 10.8000\n",
      "MS_rxc: 666.4895\n",
      "\n",
      "f_col: 4.354\tf_col_crit: 3.403\n",
      "p_value_col: 0.02435\n",
      "eta_2_col: 0.0083\n",
      "Beta_col: 0.3018\tPower_col: 0.6982\n",
      "\n",
      "f_row: 8.203\tf_row_crit: 4.260\n",
      "p_value_row: 0.00855\n",
      "eta_2_row: 0.0078\n",
      "Beta_row: 0.2154\tPower_row: 0.7846\n",
      "\n",
      "f_rxc: 506.195\tf_rxc_crit: 3.403\n",
      "p_value_rxc: 0.00000\n",
      "eta_2_rxc: 0.9612\n",
      "Beta_rxc: 0.0000\tPower_row: 1.0000\n"
     ]
    }
   ],
   "source": [
    "MSW_c = SSW_c / df_SSW_c\n",
    "MSB_col = SSB_col / df_SSB_col\n",
    "MSB_row = SSB_row / df_SSB_row\n",
    "MS_rxc = SS_rxc / df_SS_rxc\n",
    "print(\"MSW_c: {:.4f}\\tMSB_col: {:.4f}\\tMSB_row: {:.4f}\".format(MSW_c, MSB_col, MSB_row))\n",
    "print(\"MS_rxc: {:.4f}\".format(MS_rxc))\n",
    "print(\"\")\n",
    "\n",
    "\n",
    "f_col = MSB_col / MSW_c\n",
    "f_col_crit = f_test.ppf(1 - alpha, dfn=df_SSB_col, dfd=df_SSW_c)\n",
    "p_value_col = 1 - f_test.cdf(f_col, dfn=df_SSB_col, dfd=df_SSW_c)\n",
    "eta_2_col = SSB_col / SST\n",
    "### non-central parameter\n",
    "nc_col = SSB_col / MSW_c\n",
    "beta_col = ncf.cdf(f_col_crit, dfn=df_SSB_col, dfd=df_SSW_c, nc=nc_col)\n",
    "print(\"f_col: {:.3f}\\tf_col_crit: {:.3f}\".format(f_col, f_col_crit))\n",
    "print(\"p_value_col: {:.5f}\".format(p_value_col))\n",
    "print(\"eta_2_col: {:.4f}\".format(eta_2_col))\n",
    "print(\"Beta_col: {:.4f}\\tPower_col: {:.4f}\".format(beta_col, 1 - beta_col))\n",
    "print(\"\")\n",
    "\n",
    "\n",
    "f_row = MSB_row / MSW_c\n",
    "f_row_crit = f_test.ppf(1 - alpha, dfn=df_SSB_row, dfd=df_SSW_c)\n",
    "p_value_row = 1 - f_test.cdf(f_row, dfn=df_SSB_row, dfd=df_SSW_c)\n",
    "eta_2_row = SSB_row / SST\n",
    "### non-central parameter\n",
    "nc_row = SSB_row / MSW_c\n",
    "beta_row = ncf.cdf(f_row_crit, dfn=df_SSB_row, dfd=df_SSW_c, nc=nc_row)\n",
    "print(\"f_row: {:.3f}\\tf_row_crit: {:.3f}\".format(f_row, f_row_crit))\n",
    "print(\"p_value_row: {:.5f}\".format(p_value_row))\n",
    "print(\"eta_2_row: {:.4f}\".format(eta_2_row))\n",
    "print(\"Beta_row: {:.4f}\\tPower_row: {:.4f}\".format(beta_row, 1 - beta_row))\n",
    "print(\"\")\n",
    "\n",
    "\n",
    "f_rxc = MS_rxc / MSW_c\n",
    "f_rxc_crit = f_test.ppf(1 - alpha, dfn=df_SS_rxc, dfd=df_SSW_c)\n",
    "p_value_rxc = 1 - f_test.cdf(f_rxc, dfn=df_SS_rxc, dfd=df_SSW_c)\n",
    "eta_2_rxc = SS_rxc / SST\n",
    "### non-central parameter\n",
    "nc_rxc = SS_rxc / MSW_c\n",
    "beta_rxc = ncf.cdf(f_rxc_crit, dfn=df_SS_rxc, dfd=df_SSW_c, nc=nc_rxc)\n",
    "print(\"f_rxc: {:.3f}\\tf_rxc_crit: {:.3f}\".format(f_rxc, f_rxc_crit))\n",
    "print(\"p_value_rxc: {:.5f}\".format(p_value_rxc))\n",
    "print(\"eta_2_rxc: {:.4f}\".format(eta_2_rxc))\n",
    "print(\"Beta_rxc: {:.4f}\\tPower_row: {:.4f}\".format(beta_rxc, 1 - beta_rxc))"
   ]
  },
  {
   "cell_type": "code",
   "execution_count": 12,
   "metadata": {},
   "outputs": [
    {
     "data": {
      "text/plain": [
       "<matplotlib.legend.Legend at 0x267d54892e0>"
      ]
     },
     "execution_count": 12,
     "metadata": {},
     "output_type": "execute_result"
    },
    {
     "data": {
      "image/png": "[encoded data removed]",
      "text/plain": [
       "<Figure size 432x288 with 1 Axes>"
      ]
     },
     "metadata": {},
     "output_type": "display_data"
    },
    {
     "data": {
      "image/png": "[encoded data removed]",
      "text/plain": [
       "<Figure size 432x288 with 1 Axes>"
      ]
     },
     "metadata": {},
     "output_type": "display_data"
    },
    {
     "data": {
      "image/png": "[encoded data removed]",
      "text/plain": [
       "<Figure size 432x288 with 1 Axes>"
      ]
     },
     "metadata": {},
     "output_type": "display_data"
    },
    {
     "data": {
      "image/png": "[encoded data removed]",
      "text/plain": [
       "<Figure size 432x288 with 1 Axes>"
      ]
     },
     "metadata": {},
     "output_type": "display_data"
    }
   ],
   "source": [
    "plt.figure(1)\n",
    "plot = sns.barplot(x=\"type\", y=\"rate\", hue='exposure', data=df)\n",
    "plot.set(title=\"cell\")\n",
    "plot.margins(0.1)\n",
    "plot.set_ylim(1, 7)\n",
    "\n",
    "x = np.linspace(0, 10, num=100)\n",
    "y0 = f_test.pdf(x, dfn=df_SSB_row, dfd=df_SSW_c)\n",
    "y1 = ncf.pdf(x, dfn=df_SSB_row, dfd=df_SSW_c, nc=nc_row)\n",
    "plt.figure(2)\n",
    "plot = sns.lineplot(x=x, y=y0, label=\"H0\")\n",
    "plot = sns.lineplot(x=x, y=y1, label=\"H1\")\n",
    "plot.set(title=\"Exposure\")\n",
    "plt.vlines(f_row, 0, 0.7, 'b', label='F_row')\n",
    "plt.vlines(f_row_crit, 0, 0.7, 'r', label='F_row_crit')\n",
    "plt.legend()\n",
    "\n",
    "y0 = f_test.pdf(x, dfn=df_SSB_col, dfd=df_SSW_c)\n",
    "y1 = ncf.pdf(x, dfn=df_SSB_col, dfd=df_SSW_c, nc=nc_col)\n",
    "plt.figure(3)\n",
    "plot = sns.lineplot(x=x, y=y0, label=\"H0\")\n",
    "plot = sns.lineplot(x=x, y=y1, label=\"H1\")\n",
    "plot.set(title=\"Type\")\n",
    "plt.vlines(f_col, 0, 0.7, 'b', label='F_col')\n",
    "plt.vlines(f_col_crit, 0, 0.7, 'r', label='F_col_crit')\n",
    "plt.legend()\n",
    "\n",
    "y0 = f_test.pdf(x, dfn=df_SS_rxc, dfd=df_SSW_c)\n",
    "y1 = ncf.pdf(x, dfn=df_SS_rxc, dfd=df_SSW_c, nc=nc_rxc)\n",
    "plt.figure(4)\n",
    "plot = sns.lineplot(x=x, y=y0, label=\"H0\")\n",
    "plot = sns.lineplot(x=x, y=y1, label=\"H1\")\n",
    "plot.set(title=\"Interaction\")\n",
    "plt.vlines(f_rxc, 0, 0.7, 'b', label='F_rxc')\n",
    "plt.vlines(f_rxc_crit, 0, 0.7, 'r', label='F_rxc_crit')\n",
    "plt.legend()"
   ]
  },
  {
   "cell_type": "markdown",
   "metadata": {},
   "source": [
    "#### Ans:\n",
    "\n",
    "Since p_value > α in the main effect, we rejected H<sub>0. \n",
    "\n",
    "There is a significant main effect for type (columns) on the rating.\n",
    "\n",
    "There is a significant main effect for exposure (rows) on the rating. \n",
    "\n",
    "Since p_value > α in the interaction, we rejected H<sub>0.\n",
    "\n",
    "There is a significant interaction between exposure and type.\n",
    "\n",
    "#### Main Effects vs Interaction\n",
    "\n",
    "They hypothesized that spending more time watching YouTube videos would cause someone to think the can do the tablecloth trick. Therefore, from their hypothesis, we would predict that the degree of exposure would impact only the watched condition. \n",
    "\n",
    "The high exposure group should have a higher mean on watching over the low exposure group, but there is no differences between low and high exposure on reading or thinking about the trick.\n",
    "\n",
    "The interaction is telling us \"when we test the exposure, there is differences in different type (watching, reading, thinking). As a result, we need to test the simple effects (one factor ANOVA) of level of exposure at each type."
   ]
  },
  {
   "cell_type": "code",
   "execution_count": 13,
   "metadata": {},
   "outputs": [
    {
     "name": "stdout",
     "output_type": "stream",
     "text": [
      "type = Watching:\n",
      "dfn: 1\tdfd: 24\n",
      "f: 14.886075949367093\tp_value: 0.0007532957173216337\n",
      "\n",
      "type = Reading:\n",
      "dfn: 1\tdfd: 24\n",
      "f: 0.3037974683544302\tp_value: 0.5866067187582621\n",
      "\n",
      "type = Thinking:\n",
      "dfn: 1\tdfd: 24\n",
      "f: 0.3037974683544302\tp_value: 0.5866067187582621\n",
      "\n"
     ]
    }
   ],
   "source": [
    "### Subset the data to only have type = Watching\n",
    "data_w = data_array[:, 0, :]\n",
    "mean_grand_w = np.mean(data_w)\n",
    "mean_b_w = np.mean(data_w, axis=1)\n",
    "SSB_w = np.sum(5 * np.square(mean_b_w - mean_grand_w))\n",
    "df_MSB_w = num_rows - 1\n",
    "MSB_w = SSB_w / df_MSB_w\n",
    "\n",
    "### To calculate the error term, we can not use\n",
    "### SS Within in the watching subset. Instead,\n",
    "### we use the SS Within calculated from the\n",
    "### 2-way ANOVA.\n",
    "MSW_w = MSW_c\n",
    "df_MSW_w = df_SSW_c\n",
    "f_w = MSB_w / MSW_w\n",
    "p_value_w = 1 - f_test.cdf(f_w, dfn=df_MSB_w, dfd=df_MSW_w)\n",
    "print(\"type = Watching:\")\n",
    "print(\"dfn: {}\\tdfd: {}\".format(df_MSB_w, df_MSW_w))\n",
    "print(\"f: {}\\tp_value: {}\".format(f_w, p_value_w))\n",
    "print(\"\")\n",
    "\n",
    "\n",
    "### Subset the data to only have type = Reading\n",
    "data_r = data_array[:, 1, :]\n",
    "mean_grand_r = np.mean(data_r)\n",
    "mean_b_r = np.mean(data_r, axis=1)\n",
    "SSB_r = np.sum(5 * np.square(mean_b_r - mean_grand_r))\n",
    "df_MSB_r = num_rows - 1\n",
    "MSB_r = SSB_r / df_MSB_r\n",
    "\n",
    "### To calculate the error term, we can not use\n",
    "### SS Within in the watching subset. Instead,\n",
    "### we use the SS Within calculated from the\n",
    "### 2-way ANOVA.\n",
    "MSW_r = MSW_c\n",
    "df_MSW_r = df_SSW_c\n",
    "f_r = MSB_r / MSW_r\n",
    "p_value_r = 1 - f_test.cdf(f_r, dfn=df_MSB_r, dfd=df_MSW_r)\n",
    "print(\"type = Reading:\")\n",
    "print(\"dfn: {}\\tdfd: {}\".format(df_MSB_r, df_MSW_r))\n",
    "print(\"f: {}\\tp_value: {}\".format(f_r, p_value_r))\n",
    "print(\"\")\n",
    "\n",
    "\n",
    "### Subset the data to only have type = Thinking\n",
    "data_t = data_array[:, 2, :]\n",
    "mean_grand_t = np.mean(data_t)\n",
    "mean_b_t = np.mean(data_t, axis=1)\n",
    "SSB_t = np.sum(5 * np.square(mean_b_t - mean_grand_t))\n",
    "df_MSB_t = num_rows - 1\n",
    "MSB_t = SSB_t / df_MSB_t\n",
    "\n",
    "### To calculate the error term, we can not use\n",
    "### SS Within in the watching subset. Instead,\n",
    "### we use the SS Within calculated from the\n",
    "### 2-way ANOVA.\n",
    "MSW_t = MSW_c\n",
    "df_MSW_t = df_SSW_c\n",
    "f_t = MSB_t / MSW_c\n",
    "p_value_t = 1 - f_test.cdf(f_t, dfn=df_MSB_t, dfd=df_MSW_t)\n",
    "print(\"type = Thinking:\")\n",
    "print(\"dfn: {}\\tdfd: {}\".format(df_MSB_t, df_MSW_t))\n",
    "print(\"f: {}\\tp_value: {}\".format(f_t, p_value_t))\n",
    "print(\"\")"
   ]
  },
  {
   "cell_type": "markdown",
   "metadata": {},
   "source": [
    "##### Conclusion\n",
    "\n",
    "Only type watching has a p_value less than 0.05. We can conclude that the means of ratings are significantly diffent in the exposure group only on type watching.  "
   ]
  }
 ],
 "metadata": {
  "kernelspec": {
   "display_name": "Python 3.9.12 ('py39tf')",
   "language": "python",
   "name": "python3"
  },
  "language_info": {
   "codemirror_mode": {
    "name": "ipython",
    "version": 3
   },
   "file_extension": ".py",
   "mimetype": "text/x-python",
   "name": "python",
   "nbconvert_exporter": "python",
   "pygments_lexer": "ipython3",
   "version": "3.9.12"
  },
  "orig_nbformat": 4,
  "vscode": {
   "interpreter": {
    "hash": "df238622a495e1563c034796ccb7979ee1cb944f3608c1d858728f86cec43c42"
   }
  }
 },
 "nbformat": 4,
 "nbformat_minor": 2
}

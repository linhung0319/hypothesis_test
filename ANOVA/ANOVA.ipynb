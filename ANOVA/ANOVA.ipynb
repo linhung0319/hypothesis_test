{
 "cells": [
  {
   "cell_type": "code",
   "execution_count": 172,
   "metadata": {},
   "outputs": [],
   "source": [
    "from scipy.stats import f as f_test\n",
    "from scipy.stats import ncf\n",
    "from scipy.stats import t as t_test\n",
    "import numpy as np\n",
    "import matplotlib.pyplot as plt \n",
    "%matplotlib inline\n",
    "import seaborn as sns\n",
    "sns.set_style('darkgrid')"
   ]
  },
  {
   "cell_type": "markdown",
   "metadata": {},
   "source": [
    "### ANOVA\n",
    "\n",
    "* Assumptions\n",
    "\n",
    "1. Independence of the observations \n",
    "\n",
    "2. No significant outliers\n",
    "\n",
    "3. Normality\n",
    "\n",
    "4. Homogeneity of variances : The variance among the group should be approximately equal\n",
    "\n",
    "It is important to note that ANOVA is not robust to violations to the assumption of independence. This is to say, that even if you violate the assumptions of homogeneity or normality, you can conduct the test and basically trust the findings. However, the results of the ANOVA are invalid if the independence assumption is violated. In general, with violations of homogeneity the analysis is considered robust if you have equal sized groups. With violations of normality, continuing with the ANOVA is generally ok if you have a large sample size.\n",
    "\n",
    "* When to use ANOVA\n",
    "\n",
    "1. No matter what distribution the population is, if the sample size is over 30, the sameple means approach normal distribution. If we want to compare multiple sample means, we use ANOVA.\n",
    "\n",
    "2. Given the population is normal distribution, the sample means is thus normal distribution. If we want to compare multiple sample means, we use ANOVA.\n",
    "\n",
    "##### Effect Size\n",
    "\n",
    "The effect size tells us how much do the data differ from the hypothosis.\n",
    "\n",
    "![](effect_size.png)\n",
    "\n",
    "| d | Effect Size |\n",
    "| --- | --- |\n",
    "| 0.14 | large |\n",
    "| 0.06 | medium |\n",
    "| 0.01 | small |\n",
    "\n",
    "##### Power Analysis\n",
    "\n",
    "Power analysis answers questions like \"how much statistical power does my study have?\" and \"how big a sample size do I need?\".\n",
    "\n",
    "![](power_analysis.PNG)\n",
    "\n",
    "If H0 is not rejected, F score is in f-distribution.\n",
    "\n",
    "If H0 is rejected, F score is in non-central f-distribution\n",
    "\n",
    "![](f_distribution.PNG)\n",
    "\n",
    "![](non_central_parameter.PNG) \n",
    "![](parameter.PNG)"
   ]
  },
  {
   "cell_type": "markdown",
   "metadata": {},
   "source": [
    "### Post Hoc Test\n",
    "\n",
    "ANOVA can only know whether the mean of three or more groups are the same. However, it can not tell us how one group differs from a certain group. We can not use t-test in this situation because the type I error will increase if we use t-test on the same group multiple times. Instead, we use post hoc test which is a more rigorous test than t-test.\n",
    "\n",
    "![](FWER.PNG)\n",
    "\n",
    "1. Tukey HSD(Honestly Sinificant Difference): This test determines whether there is a difference between the mean of all possible pairs when the sample size in each group is the same.\n",
    "\n",
    "2. Tukey-Kramer: This test determines whether there is a difference between the mean of all possible groups, when the sample size in each group is not the same.\n",
    "\n",
    "2. Dunnet: This test determines whether there is a difference between the mean of the control group and the other group.\n",
    "\n",
    "![](choose_post_hoc.jpg)\n",
    "\n",
    "![see more](https://www.ncbi.nlm.nih.gov/pmc/articles/PMC6193594/)"
   ]
  },
  {
   "cell_type": "markdown",
   "metadata": {},
   "source": [
    "---\n",
    "\n",
    "### Question 1\n",
    "\n",
    "From our survey we can calculate Caffeiene consumption as a function of how much you\n",
    "said you liked math. Here is a table of statistics based on our survey:\n",
    "\n",
    "|| Not at all | Just a little | A fair amount | Very much |\n",
    "|---|---|---|---|---|\n",
    "| n | 14 | 56 | 75 | 6 |\n",
    "|mean | 1.21 | 1.01 | 1.41 | 3 |\n",
    "|SS | 7.8574 | 41.7456 | 354.1363 | 108 |\n",
    "| ntotal | 151 |\n",
    "|grand mean | 1.3065 |\n",
    "|SStotal | 534.834 |\n",
    "\n",
    "Calculate the standard errors of the mean for each of the 4 groups.\n",
    "\n",
    "Make a bar graph of the means for each of the 4 groups with error bars as the standard\n",
    "error of the means.\n",
    "\n",
    "Using an alpha value of α = 0.05, is there difference in Caffeine consumption across the 4 groups of students who vary their preference for math?\n",
    "\n",
    "* from one_factor_ANOVA_tutorial.pdf"
   ]
  },
  {
   "cell_type": "code",
   "execution_count": 173,
   "metadata": {},
   "outputs": [],
   "source": [
    "n = np.array([14, 56, 75, 6])\n",
    "n_total = np.sum(n)\n",
    "mean = np.array([1.21, 1.01, 1.41, 3])\n",
    "SSW_g = np.array([7.8574, 41.7456, 354.1363, 108])\n",
    "mu = np.average(mean, weights=n)\n",
    "SST = 534.834\n",
    "alpha = 0.05\n",
    "\n",
    "SSW = np.sum(SSW_g)\n",
    "SSB = np.sum( np.square(mean - mu) * n )\n",
    "\n",
    "k = 4\n",
    "df_SSW = n_total - k\n",
    "df_SSB = k - 1"
   ]
  },
  {
   "cell_type": "markdown",
   "metadata": {},
   "source": [
    "H<sub>0 : There is no difference among group means\n",
    "\n",
    "H<sub>1 : At lease one group differs significantly from the overrall mean of the dependent variable. "
   ]
  },
  {
   "cell_type": "code",
   "execution_count": 174,
   "metadata": {},
   "outputs": [
    {
     "name": "stdout",
     "output_type": "stream",
     "text": [
      "F:  2.208471453651477\n",
      "F_crit:  2.6661487758521765\n",
      "p_value:  0.08956999737639892\n",
      "eta_squared:  0.04312463900725823\n"
     ]
    }
   ],
   "source": [
    "MSW = SSW / df_SSW\n",
    "MSB = SSB / df_SSB\n",
    "f = MSB / MSW\n",
    "print(\"F: \", f)\n",
    "\n",
    "# dfn: numerator, dfd: denominator\n",
    "f_crit = f_test.ppf(1 - alpha, dfn=df_SSB, dfd=df_SSW)\n",
    "print(\"F_crit: \", f_crit)\n",
    "\n",
    "p_value = 1 - f_test.cdf(f, dfn=df_SSB, dfd=df_SSW)\n",
    "print(\"p_value: \", p_value)\n",
    "\n",
    "eta_squared = SSB / SST \n",
    "print(\"eta_squared: \", eta_squared)"
   ]
  },
  {
   "cell_type": "code",
   "execution_count": 175,
   "metadata": {},
   "outputs": [
    {
     "data": {
      "text/plain": [
       "<matplotlib.legend.Legend at 0x25daa231b20>"
      ]
     },
     "execution_count": 175,
     "metadata": {},
     "output_type": "execute_result"
    },
    {
     "data": {
      "image/png": "[encoded data removed]",
      "text/plain": [
       "<Figure size 432x288 with 1 Axes>"
      ]
     },
     "metadata": {},
     "output_type": "display_data"
    },
    {
     "data": {
      "image/png": "[encoded data removed]",
      "text/plain": [
       "<Figure size 432x288 with 1 Axes>"
      ]
     },
     "metadata": {},
     "output_type": "display_data"
    }
   ],
   "source": [
    "### standard deviation of the sample mean of each group\n",
    "SW_g = np.sqrt(SSW_g / (n - 1)) / np.sqrt(n)\n",
    "data = [0 for i in range(k)]\n",
    "for i in range(k):\n",
    "    data[i] = t_test.rvs(df=n[i]-1, loc=mean[i], scale=SW_g[i], size=100)\n",
    "\n",
    "plt.figure(1)\n",
    "plot = sns.barplot(data=data, ci='sd')\n",
    "plot.set_xticklabels([\"Not at all\",  \"Just a little\", \"A fair amount\",  \"Very much\"])\n",
    "plot.margins(0.1)\n",
    "plot.set_ylim(0, 6)\n",
    "\n",
    "### non-central parameter\n",
    "sample_var = SST / (n_total - 1)\n",
    "nc = SSB / sample_var\n",
    "\n",
    "x = np.linspace(0, 10, num=100)\n",
    "y0 = f_test.pdf(x, dfn=df_SSB, dfd=df_SSW)\n",
    "y1 = ncf.pdf(x, dfn=df_SSB, dfd=df_SSW, nc=nc)\n",
    "plt.figure(2)\n",
    "plot = sns.lineplot(x=x, y=y0, label=\"H0\")\n",
    "plot = sns.lineplot(x=x, y=y1, label=\"H1\")\n",
    "plt.vlines(f, 0, f_test.pdf(f, dfn=df_SSB, dfd=df_SSW), 'b', label='F')\n",
    "plt.vlines(f_crit, 0, 0.7, 'r', label='F_crit')\n",
    "plt.legend()"
   ]
  },
  {
   "cell_type": "markdown",
   "metadata": {},
   "source": [
    "#### Ans:\n",
    "\n",
    "Since p_value > α, we failed to reject H<sub>0. \n",
    "\n",
    "There is not a significant difference in mean Caffeine consumption across the 4 groups of students who vary their preference.\n",
    "\n",
    "The effect size calculated by eta-squared is 0.04 which is medium."
   ]
  },
  {
   "cell_type": "markdown",
   "metadata": {},
   "source": [
    "---\n",
    "\n",
    "### Question 2\n",
    "\n",
    "The Iris dataset consists of 3 different type of irises (Setosa, Versicolour, Virginica). Each sample has 4 features, the width and length of the sepals and petals.\n",
    "\n",
    "Using an alpha value of α = 0.05, is there difference in the width of the sepals across the 3 type of irises?"
   ]
  },
  {
   "cell_type": "code",
   "execution_count": 176,
   "metadata": {},
   "outputs": [
    {
     "name": "stdout",
     "output_type": "stream",
     "text": [
      "mean_g: [5.006 5.936 6.588]       mean: 5.843333333333334\n",
      "SSW_g:  [ 6.0882 13.0552 19.8128]\n",
      "SSW: 38.95620000000001     SSB: 63.21213333333319     SST: 102.16833333333335\n"
     ]
    }
   ],
   "source": [
    "from sklearn.datasets import load_iris\n",
    "\n",
    "def label_to_name(x):\n",
    "    if x == 0:\n",
    "        return \"Setosa\"\n",
    "    elif x == 1:\n",
    "        return \"Versicolour\"\n",
    "    else:\n",
    "        return \"Virginica\"\n",
    "myfunc_vec = np.vectorize(label_to_name)\n",
    "\n",
    "iris = load_iris()\n",
    "data_x = iris.data[:, 0]\n",
    "data_y = myfunc_vec(iris.target)\n",
    "x = data_x.reshape(3, 50).transpose()\n",
    "\n",
    "alpha = 0.05\n",
    "n_g = [50, 50, 50]\n",
    "n = 150\n",
    "mean_g = np.mean(x, axis=0)\n",
    "mean = np.mean(x)\n",
    "print(\"mean_g: {}       mean: {}\".format(mean_g, mean))\n",
    "\n",
    "SSW_g = np.sum(np.square(x - mean_g), axis=0)\n",
    "print(\"SSW_g: \", SSW_g)\n",
    "SSW = np.sum(SSW_g)\n",
    "SSB = np.sum(n_g * np.square(mean_g - mean))\n",
    "SST = np.sum(np.square(x - mean))\n",
    "print(\"SSW: {}     SSB: {}     SST: {}\".format(SSW, SSB, SST))\n",
    "\n",
    "k = 3\n",
    "df_SSB = k - 1\n",
    "df_SSW = n - k\n",
    "df_SST = n - 1"
   ]
  },
  {
   "cell_type": "markdown",
   "metadata": {},
   "source": [
    "H<sub>0 : There is no difference among group means\n",
    "\n",
    "H<sub>1 : At lease one group differs significantly from the overrall mean of the dependent variable. "
   ]
  },
  {
   "cell_type": "code",
   "execution_count": 177,
   "metadata": {},
   "outputs": [
    {
     "name": "stdout",
     "output_type": "stream",
     "text": [
      "F:  119.26450218450435\n",
      "F_crit:  3.057620651649394\n",
      "p_value:  6.366352940029737e-32\n",
      "eta_squared:  0.6187057307384857\n",
      "Beta:  4.3017439955037845e-13\n",
      "Power:  0.9999999999995698\n"
     ]
    }
   ],
   "source": [
    "MSB = SSB / df_SSB\n",
    "MSW = SSW / df_SSW\n",
    "f = MSB / MSW\n",
    "print(\"F: \", f)\n",
    "\n",
    "# dfn: numerator, dfd: denominator\n",
    "f_crit = f_test.ppf(1 - alpha, dfn=df_SSB, dfd=df_SSW)\n",
    "print(\"F_crit: \", f_crit)\n",
    "\n",
    "p_value = f_test.pdf(f, dfn=df_SSB, dfd=df_SSW)\n",
    "print(\"p_value: \", p_value)\n",
    "\n",
    "eta_squared = SSB / SST\n",
    "print(\"eta_squared: \", eta_squared)\n",
    "\n",
    "sample_var = SST / df_SST\n",
    "nc = SSB / sample_var\n",
    "beta = ncf.cdf(f_crit, dfn=df_SSB, dfd=df_SSW, nc=nc)\n",
    "print(\"Beta: \", beta)\n",
    "print(\"Power: \", 1 - beta)"
   ]
  },
  {
   "cell_type": "code",
   "execution_count": 178,
   "metadata": {},
   "outputs": [
    {
     "data": {
      "text/plain": [
       "(4.0, 7.5)"
      ]
     },
     "execution_count": 178,
     "metadata": {},
     "output_type": "execute_result"
    },
    {
     "data": {
      "image/png": "[encoded data removed]",
      "text/plain": [
       "<Figure size 432x288 with 1 Axes>"
      ]
     },
     "metadata": {},
     "output_type": "display_data"
    }
   ],
   "source": [
    "plt.figure(1)\n",
    "plot = sns.barplot(data=x, ci='sd')\n",
    "plot.set_xticklabels([\"Setosa\", \"Versicolour\", \"Virginica\"])\n",
    "plot.margins(0.1)\n",
    "plot.set_ylim(4, 7.5)"
   ]
  },
  {
   "cell_type": "markdown",
   "metadata": {},
   "source": [
    "#### Ans:\n",
    "\n",
    "Since p_value < α, we rejected H<sub>0. \n",
    "\n",
    "There is significant difference in the mean of the width of the sepals across the 3 type of irises.\n",
    "\n",
    "The effect size calculated by eta-squared is 0.61 which is large.\n",
    "\n",
    "β (Type II Error) = 0 which means if we rejected H1, there is a 0% chance that we are wrong.\n",
    "\n",
    "The power of this analysis is 1 which mean that we have a 100% chance that we correctly reject H0"
   ]
  },
  {
   "cell_type": "markdown",
   "metadata": {},
   "source": [
    "##### Post Hoc Test:\n",
    "\n",
    "Since we knew there was difference in group means, we wanted to find which group differs from other groups. To compare all group pairs, we employed a Tukey HSD test."
   ]
  },
  {
   "cell_type": "code",
   "execution_count": 179,
   "metadata": {},
   "outputs": [
    {
     "name": "stdout",
     "output_type": "stream",
     "text": [
      "    Multiple Comparison of Means - Tukey HSD, FWER=0.05    \n",
      "===========================================================\n",
      "   group1      group2   meandiff p-adj lower  upper  reject\n",
      "-----------------------------------------------------------\n",
      "     Setosa Versicolour     0.93   0.0 0.6862 1.1738   True\n",
      "     Setosa   Virginica    1.582   0.0 1.3382 1.8258   True\n",
      "Versicolour   Virginica    0.652   0.0 0.4082 0.8958   True\n",
      "-----------------------------------------------------------\n"
     ]
    }
   ],
   "source": [
    "from statsmodels.stats.multicomp import pairwise_tukeyhsd\n",
    "\n",
    "tukey = pairwise_tukeyhsd(endog=data_x, groups=data_y, alpha=alpha)\n",
    "print(tukey)"
   ]
  },
  {
   "cell_type": "markdown",
   "metadata": {},
   "source": []
  }
 ],
 "metadata": {
  "kernelspec": {
   "display_name": "Python 3.9.12 ('py39tf')",
   "language": "python",
   "name": "python3"
  },
  "language_info": {
   "codemirror_mode": {
    "name": "ipython",
    "version": 3
   },
   "file_extension": ".py",
   "mimetype": "text/x-python",
   "name": "python",
   "nbconvert_exporter": "python",
   "pygments_lexer": "ipython3",
   "version": "3.9.12"
  },
  "orig_nbformat": 4,
  "vscode": {
   "interpreter": {
    "hash": "df238622a495e1563c034796ccb7979ee1cb944f3608c1d858728f86cec43c42"
   }
  }
 },
 "nbformat": 4,
 "nbformat_minor": 2
}

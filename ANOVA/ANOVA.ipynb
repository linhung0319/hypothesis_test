{
 "cells": [
  {
   "cell_type": "code",
   "execution_count": 59,
   "metadata": {},
   "outputs": [],
   "source": [
    "from scipy.stats import f as f_test\n",
    "from scipy.stats import ncf\n",
    "from scipy.stats import t as t_test\n",
    "import numpy as np\n",
    "import matplotlib.pyplot as plt \n",
    "%matplotlib inline\n",
    "import seaborn as sns\n",
    "sns.set_style('darkgrid')"
   ]
  },
  {
   "cell_type": "markdown",
   "metadata": {},
   "source": [
    "### ANOVA\n",
    "\n",
    "* Assumptions\n",
    "\n",
    "1. Independence of the observations \n",
    "\n",
    "2. No significant outliers\n",
    "\n",
    "3. Normality\n",
    "\n",
    "4. Homogeneity of variances : The variance among the group should be approximately equal\n",
    "\n",
    "It is important to note that ANOVA is not robust to violations to the assumption of independence. This is to say, that even if you violate the assumptions of homogeneity or normality, you can conduct the test and basically trust the findings. However, the results of the ANOVA are invalid if the independence assumption is violated. In general, with violations of homogeneity the analysis is considered robust if you have equal sized groups. With violations of normality, continuing with the ANOVA is generally ok if you have a large sample size.\n",
    "\n",
    "* When to use ANOVA\n",
    "\n",
    "1. No matter what distribution the population is, if the sample size is over 30, the sameple means approach normal distribution. If we want to compare multiple sample means, we use ANOVA.\n",
    "\n",
    "2. Given the population is normal distribution, the sample means is thus normal distribution. If we want to compare multiple sample means, we use ANOVA.\n",
    "\n",
    "##### Effect Size\n",
    "\n",
    "The effect size tells us how much do the data differ from the hypothosis.\n",
    "\n",
    "![](effect_size.png)\n",
    "\n",
    "| d | Effect Size |\n",
    "| --- | --- |\n",
    "| 0.14 | large |\n",
    "| 0.06 | medium |\n",
    "| 0.01 | small |\n",
    "\n",
    "##### Power Analysis\n",
    "\n",
    "Power analysis answers questions like \"how much statistical power does my study have?\" and \"how big a sample size do I need?\".\n",
    "\n",
    "![](power_analysis.PNG)\n",
    "\n",
    "If H0 is not rejected, F score is in f-distribution.\n",
    "\n",
    "If H0 is rejected, F score is in non-central f-distribution\n",
    "\n",
    "![](f_distribution.PNG)\n",
    "\n",
    "![](non_central_parameter.PNG) \n",
    "![](parameter.PNG)"
   ]
  },
  {
   "cell_type": "markdown",
   "metadata": {},
   "source": [
    "### Post Hoc Test\n",
    "\n",
    "ANOVA can only know whether the mean of three or more groups are the same. However, it can not tell us how one group differs from a certain group. We can not use t-test in this situation because the type I error will increase if we use t-test on the same group multiple times. Instead, we use post hoc test which is a more rigorous test than t-test.\n",
    "\n",
    "![](FWER.PNG)\n",
    "\n",
    "1. Tukey HSD(Honestly Sinificant Difference): This test determines whether there is a difference between the mean of all possible pairs. \n",
    "\n",
    "![](choose_post_hoc.jpg)\n",
    "\n",
    "![see more](https://www.ncbi.nlm.nih.gov/pmc/articles/PMC6193594/)"
   ]
  },
  {
   "cell_type": "markdown",
   "metadata": {},
   "source": [
    "---\n",
    "\n",
    "### Question 1\n",
    "\n",
    "From our survey we can calculate Caffeiene consumption as a function of how much you\n",
    "said you liked math. Here is a table of statistics based on our survey:\n",
    "\n",
    "|| Not at all | Just a little | A fair amount | Very much |\n",
    "|---|---|---|---|---|\n",
    "| n | 14 | 56 | 75 | 6 |\n",
    "|mean | 1.21 | 1.01 | 1.41 | 3 |\n",
    "|SS | 7.8574 | 41.7456 | 354.1363 | 108 |\n",
    "| ntotal | 151 |\n",
    "|grand mean | 1.3065 |\n",
    "|SStotal | 534.834 |\n",
    "\n",
    "Calculate the standard errors of the mean for each of the 4 groups.\n",
    "\n",
    "Make a bar graph of the means for each of the 4 groups with error bars as the standard\n",
    "error of the means.\n",
    "\n",
    "Using an alpha value of α = 0.05, is there difference in Caffeine consumption across the 4 groups of students who vary their preference for math?\n",
    "\n",
    "* from one_factor_ANOVA_tutorial.pdf"
   ]
  },
  {
   "cell_type": "code",
   "execution_count": 60,
   "metadata": {},
   "outputs": [],
   "source": [
    "n = np.array([14, 56, 75, 6])\n",
    "n_total = np.sum(n)\n",
    "mean = np.array([1.21, 1.01, 1.41, 3])\n",
    "SSW_g = np.array([7.8574, 41.7456, 354.1363, 108])\n",
    "mu = np.average(mean, weights=n)\n",
    "SST = 534.834\n",
    "alpha = 0.05\n",
    "\n",
    "SSW = np.sum(SSW_g)\n",
    "SSB = np.sum( np.square(mean - mu) * n )\n",
    "\n",
    "k = 4\n",
    "df_SSW = n_total - k\n",
    "df_SSB = k - 1"
   ]
  },
  {
   "cell_type": "markdown",
   "metadata": {},
   "source": [
    "H<sub>0 : There is no difference among group means\n",
    "\n",
    "H<sub>1 : At lease one group differs significantly from the overrall mean of the dependent variable. "
   ]
  },
  {
   "cell_type": "code",
   "execution_count": 61,
   "metadata": {},
   "outputs": [
    {
     "name": "stdout",
     "output_type": "stream",
     "text": [
      "F:  2.208471453651477\n",
      "F_crit:  2.6661487758521765\n",
      "p_value:  0.08956999737639892\n",
      "eta_squared:  0.04312463900725823\n"
     ]
    }
   ],
   "source": [
    "MSW = SSW / df_SSW\n",
    "MSB = SSB / df_SSB\n",
    "f = MSB / MSW\n",
    "print(\"F: \", f)\n",
    "\n",
    "# dfn: numerator, dfd: denominator\n",
    "f_crit = f_test.ppf(1 - alpha, dfn=df_SSB, dfd=df_SSW)\n",
    "print(\"F_crit: \", f_crit)\n",
    "\n",
    "p_value = 1 - f_test.cdf(f, dfn=df_SSB, dfd=df_SSW)\n",
    "print(\"p_value: \", p_value)\n",
    "\n",
    "eta_squared = SSB / SST \n",
    "print(\"eta_squared: \", eta_squared)"
   ]
  },
  {
   "cell_type": "code",
   "execution_count": 62,
   "metadata": {},
   "outputs": [
    {
     "data": {
      "text/plain": [
       "<matplotlib.legend.Legend at 0x1f601be5e20>"
      ]
     },
     "execution_count": 62,
     "metadata": {},
     "output_type": "execute_result"
    },
    {
     "data": {
      "image/png": "[encoded data removed]",
      "text/plain": [
       "<Figure size 432x288 with 1 Axes>"
      ]
     },
     "metadata": {},
     "output_type": "display_data"
    },
    {
     "data": {
      "image/png": "[encoded data removed]",
      "text/plain": [
       "<Figure size 432x288 with 1 Axes>"
      ]
     },
     "metadata": {},
     "output_type": "display_data"
    }
   ],
   "source": [
    "### standard deviation of the sample mean of each group\n",
    "SW_g = np.sqrt(SSW_g / (n - 1)) / np.sqrt(n)\n",
    "data = [0 for i in range(k)]\n",
    "for i in range(k):\n",
    "    data[i] = t_test.rvs(df=n[i]-1, loc=mean[i], scale=SW_g[i], size=100)\n",
    "\n",
    "plt.figure(1)\n",
    "plot = sns.barplot(data=data, ci='sd')\n",
    "plot.set_xticklabels([\"Not at all\",  \"Just a little\", \"A fair amount\",  \"Very much\"])\n",
    "plot.margins(0.1)\n",
    "plot.set_ylim(0, 6)\n",
    "\n",
    "### non-central parameter\n",
    "sample_var = SST / (n_total - 1)\n",
    "nc = SSB / sample_var\n",
    "\n",
    "x = np.linspace(0, 10, num=100)\n",
    "y0 = f_test.pdf(x, dfn=df_SSB, dfd=df_SSW)\n",
    "y1 = ncf.pdf(x, dfn=df_SSB, dfd=df_SSW, nc=nc)\n",
    "plt.figure(2)\n",
    "plot = sns.lineplot(x=x, y=y0, label=\"H0\")\n",
    "plot = sns.lineplot(x=x, y=y1, label=\"H1\")\n",
    "plt.vlines(f, 0, f_test.pdf(f, dfn=df_SSB, dfd=df_SSW), 'b', label='F')\n",
    "plt.vlines(f_crit, 0, 0.7, 'r', label='F_crit')\n",
    "plt.legend()"
   ]
  },
  {
   "cell_type": "markdown",
   "metadata": {},
   "source": [
    "#### Ans:\n",
    "\n",
    "Since p_value > α, we failed to reject H<sub>0. \n",
    "\n",
    "There is not a significant difference in mean Caffeine consumption across the 4 groups of students who vary their preference.\n",
    "\n",
    "The effect size calculated by eta-squared is 0.04 which is medium."
   ]
  },
  {
   "cell_type": "markdown",
   "metadata": {},
   "source": [
    "---\n",
    "\n",
    "### Question 2\n",
    "\n",
    "The Wine dataset consists of 3 different type of wine. \n",
    "\n",
    "Using an alpha value of α = 0.05, is there difference in the malic_acid across the 3 type of wine?"
   ]
  },
  {
   "cell_type": "code",
   "execution_count": 63,
   "metadata": {},
   "outputs": [
    {
     "name": "stdout",
     "output_type": "stream",
     "text": [
      "mean_g: [2.01067797 1.93267606 3.33375   ]       mean: 2.425701340813241\n",
      "SSW_g:  [27.49777288 72.19659155 55.626325  ]\n",
      "SSW: 155.32068943065167     SSB: 66.99918243986482     SST: 222.31987187051658\n"
     ]
    }
   ],
   "source": [
    "from sklearn.datasets import load_wine\n",
    "wine = load_wine()\n",
    "data_x = wine.data[:, 1]\n",
    "data_y = wine.target\n",
    "n_g = np.array([0, 0, 0])\n",
    "for y in data_y:\n",
    "    n_g[y] += 1\n",
    "\n",
    "x = {0:data_x[:n_g[0]], 1:data_x[n_g[0]:n_g[0]+n_g[1]], 2:data_x[n_g[0]+n_g[1]:]}\n",
    "\n",
    "alpha = 0.05\n",
    "n = np.sum(n_g)\n",
    "\n",
    "k = 3\n",
    "df_SSB = k - 1\n",
    "df_SSW = n - k\n",
    "df_SST = n - 1\n",
    "\n",
    "mean_g = np.array([np.mean(x[i]) for i in range(k)])\n",
    "mean = np.mean(mean_g)\n",
    "print(\"mean_g: {}       mean: {}\".format(mean_g, mean))\n",
    "\n",
    "SSW_g = np.array([np.sum(np.square(x[i] - mean_g[i])) for i in range(k)])\n",
    "print(\"SSW_g: \", SSW_g)\n",
    "SSW = np.sum(SSW_g)\n",
    "SSB = np.sum(n_g * np.square(mean_g - mean))\n",
    "SST = np.sum([np.sum(np.square(x[i] - mean)) for i in range(k)])\n",
    "print(\"SSW: {}     SSB: {}     SST: {}\".format(SSW, SSB, SST))\n",
    "\n"
   ]
  },
  {
   "cell_type": "markdown",
   "metadata": {},
   "source": [
    "H<sub>0 : There is no difference among group means\n",
    "\n",
    "H<sub>1 : At lease one group differs significantly from the overrall mean of the dependent variable. "
   ]
  },
  {
   "cell_type": "code",
   "execution_count": 64,
   "metadata": {},
   "outputs": [
    {
     "name": "stdout",
     "output_type": "stream",
     "text": [
      "F:  37.7440280813694\n",
      "F_crit:  3.0476049210928564\n",
      "p_value:  1.645189059375644e-14\n",
      "eta_squared:  0.3013638946269565\n",
      "Beta:  4.6219652334252973e-07\n",
      "Power:  0.9999995378034766\n"
     ]
    }
   ],
   "source": [
    "MSB = SSB / df_SSB\n",
    "MSW = SSW / df_SSW\n",
    "f = MSB / MSW\n",
    "print(\"F: \", f)\n",
    "\n",
    "# dfn: numerator, dfd: denominator\n",
    "f_crit = f_test.ppf(1 - alpha, dfn=df_SSB, dfd=df_SSW)\n",
    "print(\"F_crit: \", f_crit)\n",
    "\n",
    "p_value = f_test.pdf(f, dfn=df_SSB, dfd=df_SSW)\n",
    "print(\"p_value: \", p_value)\n",
    "\n",
    "eta_squared = SSB / SST\n",
    "print(\"eta_squared: \", eta_squared)\n",
    "\n",
    "sample_var = SST / df_SST\n",
    "nc = SSB / sample_var\n",
    "beta = ncf.cdf(f_crit, dfn=df_SSB, dfd=df_SSW, nc=nc)\n",
    "print(\"Beta: \", beta)\n",
    "print(\"Power: \", 1 - beta)"
   ]
  },
  {
   "cell_type": "code",
   "execution_count": 65,
   "metadata": {},
   "outputs": [
    {
     "data": {
      "text/plain": [
       "(0.5, 4.5)"
      ]
     },
     "execution_count": 65,
     "metadata": {},
     "output_type": "execute_result"
    },
    {
     "data": {
      "image/png": "[encoded data removed]",
      "text/plain": [
       "<Figure size 432x288 with 1 Axes>"
      ]
     },
     "metadata": {},
     "output_type": "display_data"
    }
   ],
   "source": [
    "plt.figure(1)\n",
    "plot = sns.barplot(data=[x[i] for i in range(k)], ci='sd')\n",
    "plot.set_xticklabels(wine.target_names)\n",
    "plot.margins(0.1)\n",
    "plot.set_ylim(0.5, 4.5)"
   ]
  },
  {
   "cell_type": "markdown",
   "metadata": {},
   "source": [
    "#### Ans:\n",
    "\n",
    "Since p_value < α, we rejected H<sub>0. \n",
    "\n",
    "There is significant difference in the mean of malic_acid across the 3 type of irises.\n",
    "\n",
    "The effect size calculated by eta-squared is 0.3 which is large.\n",
    "\n",
    "β (Type II Error) = 0 which means if we rejected H1, there is a 0% chance that we are wrong.\n",
    "\n",
    "The power of this analysis is 1 which mean that we have a 100% chance that we correctly reject H0"
   ]
  },
  {
   "cell_type": "markdown",
   "metadata": {},
   "source": [
    "##### Post Hoc Test:\n",
    "\n",
    "Since we knew there was difference in group means, we wanted to find which group differs from other groups. To compare all group pairs, we employed a Tukey HSD test."
   ]
  },
  {
   "cell_type": "code",
   "execution_count": 66,
   "metadata": {},
   "outputs": [
    {
     "name": "stdout",
     "output_type": "stream",
     "text": [
      "Multiple Comparison of Means - Tukey HSD, FWER=0.05\n",
      "===================================================\n",
      "group1 group2 meandiff p-adj   lower  upper  reject\n",
      "---------------------------------------------------\n",
      "     0      1   -0.078 0.8855 -0.4703 0.3143  False\n",
      "     0      2   1.3231    0.0  0.8902 1.7559   True\n",
      "     1      2   1.4011    0.0  0.9849 1.8172   True\n",
      "---------------------------------------------------\n"
     ]
    }
   ],
   "source": [
    "from statsmodels.stats.multicomp import pairwise_tukeyhsd\n",
    "\n",
    "tukey = pairwise_tukeyhsd(endog=data_x, groups=data_y, alpha=alpha)\n",
    "print(tukey)\n"
   ]
  },
  {
   "cell_type": "markdown",
   "metadata": {},
   "source": []
  }
 ],
 "metadata": {
  "kernelspec": {
   "display_name": "Python 3.9.12 ('py39tf')",
   "language": "python",
   "name": "python3"
  },
  "language_info": {
   "codemirror_mode": {
    "name": "ipython",
    "version": 3
   },
   "file_extension": ".py",
   "mimetype": "text/x-python",
   "name": "python",
   "nbconvert_exporter": "python",
   "pygments_lexer": "ipython3",
   "version": "3.9.12"
  },
  "orig_nbformat": 4,
  "vscode": {
   "interpreter": {
    "hash": "df238622a495e1563c034796ccb7979ee1cb944f3608c1d858728f86cec43c42"
   }
  }
 },
 "nbformat": 4,
 "nbformat_minor": 2
}
